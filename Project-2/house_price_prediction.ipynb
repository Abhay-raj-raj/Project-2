{
 "cells": [
  {
   "cell_type": "markdown",
   "metadata": {},
   "source": [
    "# Import all required libraries"
   ]
  },
  {
   "cell_type": "code",
   "execution_count": 1,
   "metadata": {},
   "outputs": [],
   "source": [
    "import numpy as np\n",
    "import pandas as pd\n",
    "import matplotlib.pyplot as plt\n",
    "import seaborn as sns"
   ]
  },
  {
   "cell_type": "code",
   "execution_count": 2,
   "metadata": {},
   "outputs": [],
   "source": [
    "df=pd.read_csv(\"Bengaluru_House_Data.csv\")"
   ]
  },
  {
   "cell_type": "code",
   "execution_count": 3,
   "metadata": {},
   "outputs": [
    {
     "data": {
      "text/plain": [
       "(13320, 9)"
      ]
     },
     "execution_count": 3,
     "metadata": {},
     "output_type": "execute_result"
    }
   ],
   "source": [
    "df.shape"
   ]
  },
  {
   "cell_type": "code",
   "execution_count": 4,
   "metadata": {},
   "outputs": [
    {
     "data": {
      "text/html": [
       "<div>\n",
       "<style scoped>\n",
       "    .dataframe tbody tr th:only-of-type {\n",
       "        vertical-align: middle;\n",
       "    }\n",
       "\n",
       "    .dataframe tbody tr th {\n",
       "        vertical-align: top;\n",
       "    }\n",
       "\n",
       "    .dataframe thead th {\n",
       "        text-align: right;\n",
       "    }\n",
       "</style>\n",
       "<table border=\"1\" class=\"dataframe\">\n",
       "  <thead>\n",
       "    <tr style=\"text-align: right;\">\n",
       "      <th></th>\n",
       "      <th>area_type</th>\n",
       "      <th>availability</th>\n",
       "      <th>location</th>\n",
       "      <th>size</th>\n",
       "      <th>society</th>\n",
       "      <th>total_sqft</th>\n",
       "      <th>bath</th>\n",
       "      <th>balcony</th>\n",
       "      <th>price</th>\n",
       "    </tr>\n",
       "  </thead>\n",
       "  <tbody>\n",
       "    <tr>\n",
       "      <th>0</th>\n",
       "      <td>Super built-up  Area</td>\n",
       "      <td>19-Dec</td>\n",
       "      <td>Electronic City Phase II</td>\n",
       "      <td>2 BHK</td>\n",
       "      <td>Coomee</td>\n",
       "      <td>1056</td>\n",
       "      <td>2.0</td>\n",
       "      <td>1.0</td>\n",
       "      <td>39.07</td>\n",
       "    </tr>\n",
       "    <tr>\n",
       "      <th>1</th>\n",
       "      <td>Plot  Area</td>\n",
       "      <td>Ready To Move</td>\n",
       "      <td>Chikka Tirupathi</td>\n",
       "      <td>4 Bedroom</td>\n",
       "      <td>Theanmp</td>\n",
       "      <td>2600</td>\n",
       "      <td>5.0</td>\n",
       "      <td>3.0</td>\n",
       "      <td>120.00</td>\n",
       "    </tr>\n",
       "    <tr>\n",
       "      <th>2</th>\n",
       "      <td>Built-up  Area</td>\n",
       "      <td>Ready To Move</td>\n",
       "      <td>Uttarahalli</td>\n",
       "      <td>3 BHK</td>\n",
       "      <td>NaN</td>\n",
       "      <td>1440</td>\n",
       "      <td>2.0</td>\n",
       "      <td>3.0</td>\n",
       "      <td>62.00</td>\n",
       "    </tr>\n",
       "    <tr>\n",
       "      <th>3</th>\n",
       "      <td>Super built-up  Area</td>\n",
       "      <td>Ready To Move</td>\n",
       "      <td>Lingadheeranahalli</td>\n",
       "      <td>3 BHK</td>\n",
       "      <td>Soiewre</td>\n",
       "      <td>1521</td>\n",
       "      <td>3.0</td>\n",
       "      <td>1.0</td>\n",
       "      <td>95.00</td>\n",
       "    </tr>\n",
       "    <tr>\n",
       "      <th>4</th>\n",
       "      <td>Super built-up  Area</td>\n",
       "      <td>Ready To Move</td>\n",
       "      <td>Kothanur</td>\n",
       "      <td>2 BHK</td>\n",
       "      <td>NaN</td>\n",
       "      <td>1200</td>\n",
       "      <td>2.0</td>\n",
       "      <td>1.0</td>\n",
       "      <td>51.00</td>\n",
       "    </tr>\n",
       "  </tbody>\n",
       "</table>\n",
       "</div>"
      ],
      "text/plain": [
       "              area_type   availability                  location       size  \\\n",
       "0  Super built-up  Area         19-Dec  Electronic City Phase II      2 BHK   \n",
       "1            Plot  Area  Ready To Move          Chikka Tirupathi  4 Bedroom   \n",
       "2        Built-up  Area  Ready To Move               Uttarahalli      3 BHK   \n",
       "3  Super built-up  Area  Ready To Move        Lingadheeranahalli      3 BHK   \n",
       "4  Super built-up  Area  Ready To Move                  Kothanur      2 BHK   \n",
       "\n",
       "   society total_sqft  bath  balcony   price  \n",
       "0  Coomee        1056   2.0      1.0   39.07  \n",
       "1  Theanmp       2600   5.0      3.0  120.00  \n",
       "2      NaN       1440   2.0      3.0   62.00  \n",
       "3  Soiewre       1521   3.0      1.0   95.00  \n",
       "4      NaN       1200   2.0      1.0   51.00  "
      ]
     },
     "execution_count": 4,
     "metadata": {},
     "output_type": "execute_result"
    }
   ],
   "source": [
    "df.head()"
   ]
  },
  {
   "cell_type": "code",
   "execution_count": 5,
   "metadata": {},
   "outputs": [
    {
     "data": {
      "text/html": [
       "<div>\n",
       "<style scoped>\n",
       "    .dataframe tbody tr th:only-of-type {\n",
       "        vertical-align: middle;\n",
       "    }\n",
       "\n",
       "    .dataframe tbody tr th {\n",
       "        vertical-align: top;\n",
       "    }\n",
       "\n",
       "    .dataframe thead th {\n",
       "        text-align: right;\n",
       "    }\n",
       "</style>\n",
       "<table border=\"1\" class=\"dataframe\">\n",
       "  <thead>\n",
       "    <tr style=\"text-align: right;\">\n",
       "      <th></th>\n",
       "      <th>area_type</th>\n",
       "      <th>availability</th>\n",
       "      <th>location</th>\n",
       "      <th>size</th>\n",
       "      <th>society</th>\n",
       "      <th>total_sqft</th>\n",
       "      <th>bath</th>\n",
       "      <th>balcony</th>\n",
       "      <th>price</th>\n",
       "    </tr>\n",
       "  </thead>\n",
       "  <tbody>\n",
       "    <tr>\n",
       "      <th>13315</th>\n",
       "      <td>Built-up  Area</td>\n",
       "      <td>Ready To Move</td>\n",
       "      <td>Whitefield</td>\n",
       "      <td>5 Bedroom</td>\n",
       "      <td>ArsiaEx</td>\n",
       "      <td>3453</td>\n",
       "      <td>4.0</td>\n",
       "      <td>0.0</td>\n",
       "      <td>231.0</td>\n",
       "    </tr>\n",
       "    <tr>\n",
       "      <th>13316</th>\n",
       "      <td>Super built-up  Area</td>\n",
       "      <td>Ready To Move</td>\n",
       "      <td>Richards Town</td>\n",
       "      <td>4 BHK</td>\n",
       "      <td>NaN</td>\n",
       "      <td>3600</td>\n",
       "      <td>5.0</td>\n",
       "      <td>NaN</td>\n",
       "      <td>400.0</td>\n",
       "    </tr>\n",
       "    <tr>\n",
       "      <th>13317</th>\n",
       "      <td>Built-up  Area</td>\n",
       "      <td>Ready To Move</td>\n",
       "      <td>Raja Rajeshwari Nagar</td>\n",
       "      <td>2 BHK</td>\n",
       "      <td>Mahla T</td>\n",
       "      <td>1141</td>\n",
       "      <td>2.0</td>\n",
       "      <td>1.0</td>\n",
       "      <td>60.0</td>\n",
       "    </tr>\n",
       "    <tr>\n",
       "      <th>13318</th>\n",
       "      <td>Super built-up  Area</td>\n",
       "      <td>18-Jun</td>\n",
       "      <td>Padmanabhanagar</td>\n",
       "      <td>4 BHK</td>\n",
       "      <td>SollyCl</td>\n",
       "      <td>4689</td>\n",
       "      <td>4.0</td>\n",
       "      <td>1.0</td>\n",
       "      <td>488.0</td>\n",
       "    </tr>\n",
       "    <tr>\n",
       "      <th>13319</th>\n",
       "      <td>Super built-up  Area</td>\n",
       "      <td>Ready To Move</td>\n",
       "      <td>Doddathoguru</td>\n",
       "      <td>1 BHK</td>\n",
       "      <td>NaN</td>\n",
       "      <td>550</td>\n",
       "      <td>1.0</td>\n",
       "      <td>1.0</td>\n",
       "      <td>17.0</td>\n",
       "    </tr>\n",
       "  </tbody>\n",
       "</table>\n",
       "</div>"
      ],
      "text/plain": [
       "                  area_type   availability               location       size  \\\n",
       "13315        Built-up  Area  Ready To Move             Whitefield  5 Bedroom   \n",
       "13316  Super built-up  Area  Ready To Move          Richards Town      4 BHK   \n",
       "13317        Built-up  Area  Ready To Move  Raja Rajeshwari Nagar      2 BHK   \n",
       "13318  Super built-up  Area         18-Jun        Padmanabhanagar      4 BHK   \n",
       "13319  Super built-up  Area  Ready To Move           Doddathoguru      1 BHK   \n",
       "\n",
       "       society total_sqft  bath  balcony  price  \n",
       "13315  ArsiaEx       3453   4.0      0.0  231.0  \n",
       "13316      NaN       3600   5.0      NaN  400.0  \n",
       "13317  Mahla T       1141   2.0      1.0   60.0  \n",
       "13318  SollyCl       4689   4.0      1.0  488.0  \n",
       "13319      NaN        550   1.0      1.0   17.0  "
      ]
     },
     "execution_count": 5,
     "metadata": {},
     "output_type": "execute_result"
    }
   ],
   "source": [
    "df.tail()"
   ]
  },
  {
   "cell_type": "code",
   "execution_count": 6,
   "metadata": {},
   "outputs": [
    {
     "name": "stdout",
     "output_type": "stream",
     "text": [
      "<class 'pandas.core.frame.DataFrame'>\n",
      "RangeIndex: 13320 entries, 0 to 13319\n",
      "Data columns (total 9 columns):\n",
      " #   Column        Non-Null Count  Dtype  \n",
      "---  ------        --------------  -----  \n",
      " 0   area_type     13320 non-null  object \n",
      " 1   availability  13320 non-null  object \n",
      " 2   location      13319 non-null  object \n",
      " 3   size          13304 non-null  object \n",
      " 4   society       7818 non-null   object \n",
      " 5   total_sqft    13320 non-null  object \n",
      " 6   bath          13247 non-null  float64\n",
      " 7   balcony       12711 non-null  float64\n",
      " 8   price         13320 non-null  float64\n",
      "dtypes: float64(3), object(6)\n",
      "memory usage: 936.7+ KB\n"
     ]
    }
   ],
   "source": [
    "df.info()"
   ]
  },
  {
   "cell_type": "code",
   "execution_count": 7,
   "metadata": {},
   "outputs": [
    {
     "data": {
      "text/plain": [
       "area_type        0.000000\n",
       "availability     0.000000\n",
       "location         0.007508\n",
       "size             0.120120\n",
       "society         41.306306\n",
       "total_sqft       0.000000\n",
       "bath             0.548048\n",
       "balcony          4.572072\n",
       "price            0.000000\n",
       "dtype: float64"
      ]
     },
     "execution_count": 7,
     "metadata": {},
     "output_type": "execute_result"
    }
   ],
   "source": [
    "df.isnull().sum()/df.shape[0]*100"
   ]
  },
  {
   "cell_type": "code",
   "execution_count": 8,
   "metadata": {},
   "outputs": [],
   "source": [
    "df1=df.drop(['society'],axis=1)"
   ]
  },
  {
   "cell_type": "code",
   "execution_count": 9,
   "metadata": {},
   "outputs": [
    {
     "data": {
      "text/plain": [
       "(13320, 8)"
      ]
     },
     "execution_count": 9,
     "metadata": {},
     "output_type": "execute_result"
    }
   ],
   "source": [
    "df1.shape"
   ]
  },
  {
   "cell_type": "code",
   "execution_count": 10,
   "metadata": {},
   "outputs": [
    {
     "data": {
      "text/html": [
       "<div>\n",
       "<style scoped>\n",
       "    .dataframe tbody tr th:only-of-type {\n",
       "        vertical-align: middle;\n",
       "    }\n",
       "\n",
       "    .dataframe tbody tr th {\n",
       "        vertical-align: top;\n",
       "    }\n",
       "\n",
       "    .dataframe thead th {\n",
       "        text-align: right;\n",
       "    }\n",
       "</style>\n",
       "<table border=\"1\" class=\"dataframe\">\n",
       "  <thead>\n",
       "    <tr style=\"text-align: right;\">\n",
       "      <th></th>\n",
       "      <th>area_type</th>\n",
       "      <th>availability</th>\n",
       "      <th>location</th>\n",
       "      <th>size</th>\n",
       "      <th>total_sqft</th>\n",
       "      <th>bath</th>\n",
       "      <th>balcony</th>\n",
       "      <th>price</th>\n",
       "    </tr>\n",
       "  </thead>\n",
       "  <tbody>\n",
       "    <tr>\n",
       "      <th>0</th>\n",
       "      <td>Super built-up  Area</td>\n",
       "      <td>19-Dec</td>\n",
       "      <td>Electronic City Phase II</td>\n",
       "      <td>2 BHK</td>\n",
       "      <td>1056</td>\n",
       "      <td>2.0</td>\n",
       "      <td>1.0</td>\n",
       "      <td>39.07</td>\n",
       "    </tr>\n",
       "    <tr>\n",
       "      <th>1</th>\n",
       "      <td>Plot  Area</td>\n",
       "      <td>Ready To Move</td>\n",
       "      <td>Chikka Tirupathi</td>\n",
       "      <td>4 Bedroom</td>\n",
       "      <td>2600</td>\n",
       "      <td>5.0</td>\n",
       "      <td>3.0</td>\n",
       "      <td>120.00</td>\n",
       "    </tr>\n",
       "    <tr>\n",
       "      <th>2</th>\n",
       "      <td>Built-up  Area</td>\n",
       "      <td>Ready To Move</td>\n",
       "      <td>Uttarahalli</td>\n",
       "      <td>3 BHK</td>\n",
       "      <td>1440</td>\n",
       "      <td>2.0</td>\n",
       "      <td>3.0</td>\n",
       "      <td>62.00</td>\n",
       "    </tr>\n",
       "    <tr>\n",
       "      <th>3</th>\n",
       "      <td>Super built-up  Area</td>\n",
       "      <td>Ready To Move</td>\n",
       "      <td>Lingadheeranahalli</td>\n",
       "      <td>3 BHK</td>\n",
       "      <td>1521</td>\n",
       "      <td>3.0</td>\n",
       "      <td>1.0</td>\n",
       "      <td>95.00</td>\n",
       "    </tr>\n",
       "    <tr>\n",
       "      <th>4</th>\n",
       "      <td>Super built-up  Area</td>\n",
       "      <td>Ready To Move</td>\n",
       "      <td>Kothanur</td>\n",
       "      <td>2 BHK</td>\n",
       "      <td>1200</td>\n",
       "      <td>2.0</td>\n",
       "      <td>1.0</td>\n",
       "      <td>51.00</td>\n",
       "    </tr>\n",
       "  </tbody>\n",
       "</table>\n",
       "</div>"
      ],
      "text/plain": [
       "              area_type   availability                  location       size  \\\n",
       "0  Super built-up  Area         19-Dec  Electronic City Phase II      2 BHK   \n",
       "1            Plot  Area  Ready To Move          Chikka Tirupathi  4 Bedroom   \n",
       "2        Built-up  Area  Ready To Move               Uttarahalli      3 BHK   \n",
       "3  Super built-up  Area  Ready To Move        Lingadheeranahalli      3 BHK   \n",
       "4  Super built-up  Area  Ready To Move                  Kothanur      2 BHK   \n",
       "\n",
       "  total_sqft  bath  balcony   price  \n",
       "0       1056   2.0      1.0   39.07  \n",
       "1       2600   5.0      3.0  120.00  \n",
       "2       1440   2.0      3.0   62.00  \n",
       "3       1521   3.0      1.0   95.00  \n",
       "4       1200   2.0      1.0   51.00  "
      ]
     },
     "execution_count": 10,
     "metadata": {},
     "output_type": "execute_result"
    }
   ],
   "source": [
    "df1.head()"
   ]
  },
  {
   "cell_type": "markdown",
   "metadata": {},
   "source": [
    "# Filling Null Values"
   ]
  },
  {
   "cell_type": "code",
   "execution_count": 11,
   "metadata": {},
   "outputs": [
    {
     "data": {
      "text/plain": [
       "area_type       0.000000\n",
       "availability    0.000000\n",
       "location        0.007508\n",
       "size            0.120120\n",
       "total_sqft      0.000000\n",
       "bath            0.548048\n",
       "balcony         4.572072\n",
       "price           0.000000\n",
       "dtype: float64"
      ]
     },
     "execution_count": 11,
     "metadata": {},
     "output_type": "execute_result"
    }
   ],
   "source": [
    "df1.isnull().sum()/df1.shape[0]*100"
   ]
  },
  {
   "cell_type": "code",
   "execution_count": 12,
   "metadata": {},
   "outputs": [
    {
     "data": {
      "text/plain": [
       "<AxesSubplot:>"
      ]
     },
     "execution_count": 12,
     "metadata": {},
     "output_type": "execute_result"
    },
    {
     "data": {
      "image/png": "[encoded data removed]",
      "text/plain": [
       "<Figure size 720x720 with 2 Axes>"
      ]
     },
     "metadata": {},
     "output_type": "display_data"
    }
   ],
   "source": [
    "plt.figure(figsize=(10,10))\n",
    "sns.heatmap(df1.isnull())"
   ]
  },
  {
   "cell_type": "code",
   "execution_count": 13,
   "metadata": {},
   "outputs": [
    {
     "data": {
      "text/plain": [
       "array([ 1.,  3., nan,  2.,  0.])"
      ]
     },
     "execution_count": 13,
     "metadata": {},
     "output_type": "execute_result"
    }
   ],
   "source": [
    "df1['balcony'].unique()"
   ]
  },
  {
   "cell_type": "code",
   "execution_count": 14,
   "metadata": {},
   "outputs": [
    {
     "data": {
      "text/plain": [
       "2.0    5113\n",
       "1.0    4897\n",
       "3.0    1672\n",
       "0.0    1029\n",
       "Name: balcony, dtype: int64"
      ]
     },
     "execution_count": 14,
     "metadata": {},
     "output_type": "execute_result"
    }
   ],
   "source": [
    "df1['balcony'].value_counts()"
   ]
  },
  {
   "cell_type": "code",
   "execution_count": 15,
   "metadata": {},
   "outputs": [
    {
     "data": {
      "text/plain": [
       "609"
      ]
     },
     "execution_count": 15,
     "metadata": {},
     "output_type": "execute_result"
    }
   ],
   "source": [
    "df1['balcony'].isnull().sum()"
   ]
  },
  {
   "cell_type": "code",
   "execution_count": 16,
   "metadata": {},
   "outputs": [
    {
     "data": {
      "text/plain": [
       "2.0"
      ]
     },
     "execution_count": 16,
     "metadata": {},
     "output_type": "execute_result"
    }
   ],
   "source": [
    "df1['balcony'].median()"
   ]
  },
  {
   "cell_type": "code",
   "execution_count": 17,
   "metadata": {},
   "outputs": [
    {
     "data": {
      "text/plain": [
       "1.5843757375501535"
      ]
     },
     "execution_count": 17,
     "metadata": {},
     "output_type": "execute_result"
    }
   ],
   "source": [
    "df1['balcony'].mean()"
   ]
  },
  {
   "cell_type": "code",
   "execution_count": 18,
   "metadata": {},
   "outputs": [
    {
     "data": {
      "text/plain": [
       "0    2.0\n",
       "dtype: float64"
      ]
     },
     "execution_count": 18,
     "metadata": {},
     "output_type": "execute_result"
    }
   ],
   "source": [
    "df1['balcony'].mode()"
   ]
  },
  {
   "cell_type": "code",
   "execution_count": 19,
   "metadata": {},
   "outputs": [],
   "source": [
    "df1['balcony'].fillna(2,inplace=True)"
   ]
  },
  {
   "cell_type": "code",
   "execution_count": 20,
   "metadata": {},
   "outputs": [
    {
     "data": {
      "text/plain": [
       "area_type        0\n",
       "availability     0\n",
       "location         1\n",
       "size            16\n",
       "total_sqft       0\n",
       "bath            73\n",
       "balcony          0\n",
       "price            0\n",
       "dtype: int64"
      ]
     },
     "execution_count": 20,
     "metadata": {},
     "output_type": "execute_result"
    }
   ],
   "source": [
    "df1.isnull().sum()"
   ]
  },
  {
   "cell_type": "code",
   "execution_count": 21,
   "metadata": {},
   "outputs": [
    {
     "data": {
      "text/plain": [
       "location     1\n",
       "size        16\n",
       "dtype: int64"
      ]
     },
     "execution_count": 21,
     "metadata": {},
     "output_type": "execute_result"
    }
   ],
   "source": [
    "df1[['location','size']].isnull().sum()"
   ]
  },
  {
   "cell_type": "code",
   "execution_count": 22,
   "metadata": {},
   "outputs": [
    {
     "data": {
      "text/plain": [
       "array(['Electronic City Phase II', 'Chikka Tirupathi', 'Uttarahalli', ...,\n",
       "       '12th cross srinivas nagar banshankari 3rd stage',\n",
       "       'Havanur extension', 'Abshot Layout'], dtype=object)"
      ]
     },
     "execution_count": 22,
     "metadata": {},
     "output_type": "execute_result"
    }
   ],
   "source": [
    "df1['location'].unique()"
   ]
  },
  {
   "cell_type": "code",
   "execution_count": 23,
   "metadata": {},
   "outputs": [
    {
     "data": {
      "text/plain": [
       "Whitefield                540\n",
       "Sarjapur  Road            399\n",
       "Electronic City           302\n",
       "Kanakpura Road            273\n",
       "Thanisandra               234\n",
       "                         ... \n",
       "Duddanahalli                1\n",
       "Near Electronic City,       1\n",
       "Shakthi Nagar               1\n",
       "KG Halli                    1\n",
       "M.G Road                    1\n",
       "Name: location, Length: 1305, dtype: int64"
      ]
     },
     "execution_count": 23,
     "metadata": {},
     "output_type": "execute_result"
    }
   ],
   "source": [
    "df1['location'].value_counts()"
   ]
  },
  {
   "cell_type": "code",
   "execution_count": 24,
   "metadata": {},
   "outputs": [
    {
     "data": {
      "text/plain": [
       "'Whitefield'"
      ]
     },
     "execution_count": 24,
     "metadata": {},
     "output_type": "execute_result"
    }
   ],
   "source": [
    "z=df1['location'].mode()[0]\n",
    "z"
   ]
  },
  {
   "cell_type": "code",
   "execution_count": 25,
   "metadata": {},
   "outputs": [],
   "source": [
    "df1['location'].fillna(z,inplace=True)"
   ]
  },
  {
   "cell_type": "code",
   "execution_count": 26,
   "metadata": {},
   "outputs": [
    {
     "name": "stdout",
     "output_type": "stream",
     "text": [
      "<class 'pandas.core.frame.DataFrame'>\n",
      "RangeIndex: 13320 entries, 0 to 13319\n",
      "Data columns (total 8 columns):\n",
      " #   Column        Non-Null Count  Dtype  \n",
      "---  ------        --------------  -----  \n",
      " 0   area_type     13320 non-null  object \n",
      " 1   availability  13320 non-null  object \n",
      " 2   location      13320 non-null  object \n",
      " 3   size          13304 non-null  object \n",
      " 4   total_sqft    13320 non-null  object \n",
      " 5   bath          13247 non-null  float64\n",
      " 6   balcony       13320 non-null  float64\n",
      " 7   price         13320 non-null  float64\n",
      "dtypes: float64(3), object(5)\n",
      "memory usage: 832.6+ KB\n"
     ]
    }
   ],
   "source": [
    "df1.info()"
   ]
  },
  {
   "cell_type": "code",
   "execution_count": 27,
   "metadata": {},
   "outputs": [
    {
     "data": {
      "text/plain": [
       "area_type        0\n",
       "availability     0\n",
       "location         0\n",
       "size            16\n",
       "total_sqft       0\n",
       "bath            73\n",
       "balcony          0\n",
       "price            0\n",
       "dtype: int64"
      ]
     },
     "execution_count": 27,
     "metadata": {},
     "output_type": "execute_result"
    }
   ],
   "source": [
    "df1.isnull().sum()"
   ]
  },
  {
   "cell_type": "code",
   "execution_count": 28,
   "metadata": {},
   "outputs": [
    {
     "data": {
      "text/plain": [
       "array(['2 BHK', '4 Bedroom', '3 BHK', '4 BHK', '6 Bedroom', '3 Bedroom',\n",
       "       '1 BHK', '1 RK', '1 Bedroom', '8 Bedroom', '2 Bedroom',\n",
       "       '7 Bedroom', '5 BHK', '7 BHK', '6 BHK', '5 Bedroom', '11 BHK',\n",
       "       '9 BHK', nan, '9 Bedroom', '27 BHK', '10 Bedroom', '11 Bedroom',\n",
       "       '10 BHK', '19 BHK', '16 BHK', '43 Bedroom', '14 BHK', '8 BHK',\n",
       "       '12 Bedroom', '13 BHK', '18 Bedroom'], dtype=object)"
      ]
     },
     "execution_count": 28,
     "metadata": {},
     "output_type": "execute_result"
    }
   ],
   "source": [
    "df1['size'].unique()"
   ]
  },
  {
   "cell_type": "code",
   "execution_count": 29,
   "metadata": {},
   "outputs": [
    {
     "data": {
      "text/plain": [
       "2 BHK         5199\n",
       "3 BHK         4310\n",
       "4 Bedroom      826\n",
       "4 BHK          591\n",
       "3 Bedroom      547\n",
       "1 BHK          538\n",
       "2 Bedroom      329\n",
       "5 Bedroom      297\n",
       "6 Bedroom      191\n",
       "1 Bedroom      105\n",
       "8 Bedroom       84\n",
       "7 Bedroom       83\n",
       "5 BHK           59\n",
       "9 Bedroom       46\n",
       "6 BHK           30\n",
       "7 BHK           17\n",
       "1 RK            13\n",
       "10 Bedroom      12\n",
       "9 BHK            8\n",
       "8 BHK            5\n",
       "11 BHK           2\n",
       "10 BHK           2\n",
       "11 Bedroom       2\n",
       "14 BHK           1\n",
       "19 BHK           1\n",
       "43 Bedroom       1\n",
       "18 Bedroom       1\n",
       "27 BHK           1\n",
       "16 BHK           1\n",
       "12 Bedroom       1\n",
       "13 BHK           1\n",
       "Name: size, dtype: int64"
      ]
     },
     "execution_count": 29,
     "metadata": {},
     "output_type": "execute_result"
    }
   ],
   "source": [
    "df1['size'].value_counts()"
   ]
  },
  {
   "cell_type": "code",
   "execution_count": 30,
   "metadata": {},
   "outputs": [],
   "source": [
    "df1['size'].fillna('2 BHK',inplace=True)"
   ]
  },
  {
   "cell_type": "code",
   "execution_count": 31,
   "metadata": {},
   "outputs": [],
   "source": [
    "p=[]\n",
    "for i in df1['size']:\n",
    "    k=i.split()\n",
    "    num1=int(k[0])\n",
    "    if k[1]==\"BHK\":\n",
    "        num1+=2\n",
    "    elif k[1]==\"RK\":\n",
    "        num1+=1\n",
    "    p.append(int(num1))"
   ]
  },
  {
   "cell_type": "code",
   "execution_count": 32,
   "metadata": {},
   "outputs": [],
   "source": [
    "df1['rooms']=p"
   ]
  },
  {
   "cell_type": "code",
   "execution_count": 33,
   "metadata": {},
   "outputs": [
    {
     "data": {
      "text/plain": [
       "4     6041\n",
       "5     4607\n",
       "3     1085\n",
       "6      782\n",
       "2      342\n",
       "7      142\n",
       "8      114\n",
       "1      105\n",
       "9       63\n",
       "10      17\n",
       "11      10\n",
       "12       3\n",
       "13       2\n",
       "18       2\n",
       "16       1\n",
       "15       1\n",
       "21       1\n",
       "29       1\n",
       "43       1\n",
       "Name: rooms, dtype: int64"
      ]
     },
     "execution_count": 33,
     "metadata": {},
     "output_type": "execute_result"
    }
   ],
   "source": [
    "df1['rooms'].value_counts()"
   ]
  },
  {
   "cell_type": "code",
   "execution_count": 34,
   "metadata": {},
   "outputs": [],
   "source": [
    "df2=df1.drop(['size'],axis=1)"
   ]
  },
  {
   "cell_type": "code",
   "execution_count": 35,
   "metadata": {},
   "outputs": [
    {
     "data": {
      "text/html": [
       "<div>\n",
       "<style scoped>\n",
       "    .dataframe tbody tr th:only-of-type {\n",
       "        vertical-align: middle;\n",
       "    }\n",
       "\n",
       "    .dataframe tbody tr th {\n",
       "        vertical-align: top;\n",
       "    }\n",
       "\n",
       "    .dataframe thead th {\n",
       "        text-align: right;\n",
       "    }\n",
       "</style>\n",
       "<table border=\"1\" class=\"dataframe\">\n",
       "  <thead>\n",
       "    <tr style=\"text-align: right;\">\n",
       "      <th></th>\n",
       "      <th>area_type</th>\n",
       "      <th>availability</th>\n",
       "      <th>location</th>\n",
       "      <th>total_sqft</th>\n",
       "      <th>bath</th>\n",
       "      <th>balcony</th>\n",
       "      <th>price</th>\n",
       "      <th>rooms</th>\n",
       "    </tr>\n",
       "  </thead>\n",
       "  <tbody>\n",
       "    <tr>\n",
       "      <th>0</th>\n",
       "      <td>Super built-up  Area</td>\n",
       "      <td>19-Dec</td>\n",
       "      <td>Electronic City Phase II</td>\n",
       "      <td>1056</td>\n",
       "      <td>2.0</td>\n",
       "      <td>1.0</td>\n",
       "      <td>39.07</td>\n",
       "      <td>4</td>\n",
       "    </tr>\n",
       "    <tr>\n",
       "      <th>1</th>\n",
       "      <td>Plot  Area</td>\n",
       "      <td>Ready To Move</td>\n",
       "      <td>Chikka Tirupathi</td>\n",
       "      <td>2600</td>\n",
       "      <td>5.0</td>\n",
       "      <td>3.0</td>\n",
       "      <td>120.00</td>\n",
       "      <td>4</td>\n",
       "    </tr>\n",
       "    <tr>\n",
       "      <th>2</th>\n",
       "      <td>Built-up  Area</td>\n",
       "      <td>Ready To Move</td>\n",
       "      <td>Uttarahalli</td>\n",
       "      <td>1440</td>\n",
       "      <td>2.0</td>\n",
       "      <td>3.0</td>\n",
       "      <td>62.00</td>\n",
       "      <td>5</td>\n",
       "    </tr>\n",
       "    <tr>\n",
       "      <th>3</th>\n",
       "      <td>Super built-up  Area</td>\n",
       "      <td>Ready To Move</td>\n",
       "      <td>Lingadheeranahalli</td>\n",
       "      <td>1521</td>\n",
       "      <td>3.0</td>\n",
       "      <td>1.0</td>\n",
       "      <td>95.00</td>\n",
       "      <td>5</td>\n",
       "    </tr>\n",
       "    <tr>\n",
       "      <th>4</th>\n",
       "      <td>Super built-up  Area</td>\n",
       "      <td>Ready To Move</td>\n",
       "      <td>Kothanur</td>\n",
       "      <td>1200</td>\n",
       "      <td>2.0</td>\n",
       "      <td>1.0</td>\n",
       "      <td>51.00</td>\n",
       "      <td>4</td>\n",
       "    </tr>\n",
       "  </tbody>\n",
       "</table>\n",
       "</div>"
      ],
      "text/plain": [
       "              area_type   availability                  location total_sqft  \\\n",
       "0  Super built-up  Area         19-Dec  Electronic City Phase II       1056   \n",
       "1            Plot  Area  Ready To Move          Chikka Tirupathi       2600   \n",
       "2        Built-up  Area  Ready To Move               Uttarahalli       1440   \n",
       "3  Super built-up  Area  Ready To Move        Lingadheeranahalli       1521   \n",
       "4  Super built-up  Area  Ready To Move                  Kothanur       1200   \n",
       "\n",
       "   bath  balcony   price  rooms  \n",
       "0   2.0      1.0   39.07      4  \n",
       "1   5.0      3.0  120.00      4  \n",
       "2   2.0      3.0   62.00      5  \n",
       "3   3.0      1.0   95.00      5  \n",
       "4   2.0      1.0   51.00      4  "
      ]
     },
     "execution_count": 35,
     "metadata": {},
     "output_type": "execute_result"
    }
   ],
   "source": [
    "df2.head()"
   ]
  },
  {
   "cell_type": "code",
   "execution_count": 36,
   "metadata": {},
   "outputs": [
    {
     "name": "stdout",
     "output_type": "stream",
     "text": [
      "<class 'pandas.core.frame.DataFrame'>\n",
      "RangeIndex: 13320 entries, 0 to 13319\n",
      "Data columns (total 8 columns):\n",
      " #   Column        Non-Null Count  Dtype  \n",
      "---  ------        --------------  -----  \n",
      " 0   area_type     13320 non-null  object \n",
      " 1   availability  13320 non-null  object \n",
      " 2   location      13320 non-null  object \n",
      " 3   total_sqft    13320 non-null  object \n",
      " 4   bath          13247 non-null  float64\n",
      " 5   balcony       13320 non-null  float64\n",
      " 6   price         13320 non-null  float64\n",
      " 7   rooms         13320 non-null  int64  \n",
      "dtypes: float64(3), int64(1), object(4)\n",
      "memory usage: 832.6+ KB\n"
     ]
    }
   ],
   "source": [
    "df2.info()"
   ]
  },
  {
   "cell_type": "code",
   "execution_count": 37,
   "metadata": {},
   "outputs": [
    {
     "data": {
      "text/plain": [
       "area_type        0\n",
       "availability     0\n",
       "location         0\n",
       "total_sqft       0\n",
       "bath            73\n",
       "balcony          0\n",
       "price            0\n",
       "rooms            0\n",
       "dtype: int64"
      ]
     },
     "execution_count": 37,
     "metadata": {},
     "output_type": "execute_result"
    }
   ],
   "source": [
    "df2.isnull().sum()"
   ]
  },
  {
   "cell_type": "code",
   "execution_count": 38,
   "metadata": {},
   "outputs": [
    {
     "data": {
      "text/plain": [
       "array([ 2.,  5.,  3.,  4.,  6.,  1.,  9., nan,  8.,  7., 11., 10., 14.,\n",
       "       27., 12., 16., 40., 15., 13., 18.])"
      ]
     },
     "execution_count": 38,
     "metadata": {},
     "output_type": "execute_result"
    }
   ],
   "source": [
    "df2['bath'].unique()"
   ]
  },
  {
   "cell_type": "code",
   "execution_count": 39,
   "metadata": {},
   "outputs": [
    {
     "data": {
      "text/plain": [
       "2.0     6908\n",
       "3.0     3286\n",
       "4.0     1226\n",
       "1.0      788\n",
       "5.0      524\n",
       "6.0      273\n",
       "7.0      102\n",
       "8.0       64\n",
       "9.0       43\n",
       "10.0      13\n",
       "12.0       7\n",
       "13.0       3\n",
       "11.0       3\n",
       "16.0       2\n",
       "27.0       1\n",
       "18.0       1\n",
       "40.0       1\n",
       "15.0       1\n",
       "14.0       1\n",
       "Name: bath, dtype: int64"
      ]
     },
     "execution_count": 39,
     "metadata": {},
     "output_type": "execute_result"
    }
   ],
   "source": [
    "df2['bath'].value_counts()"
   ]
  },
  {
   "cell_type": "code",
   "execution_count": 40,
   "metadata": {},
   "outputs": [],
   "source": [
    "z=df2['bath'].mode()[0]"
   ]
  },
  {
   "cell_type": "code",
   "execution_count": 41,
   "metadata": {},
   "outputs": [],
   "source": [
    "df2['bath'].fillna(z,inplace=True)"
   ]
  },
  {
   "cell_type": "code",
   "execution_count": 42,
   "metadata": {},
   "outputs": [
    {
     "data": {
      "text/plain": [
       "0"
      ]
     },
     "execution_count": 42,
     "metadata": {},
     "output_type": "execute_result"
    }
   ],
   "source": [
    "df2.isnull().sum().sum()"
   ]
  },
  {
   "cell_type": "code",
   "execution_count": 43,
   "metadata": {},
   "outputs": [
    {
     "name": "stdout",
     "output_type": "stream",
     "text": [
      "<class 'pandas.core.frame.DataFrame'>\n",
      "RangeIndex: 13320 entries, 0 to 13319\n",
      "Data columns (total 8 columns):\n",
      " #   Column        Non-Null Count  Dtype  \n",
      "---  ------        --------------  -----  \n",
      " 0   area_type     13320 non-null  object \n",
      " 1   availability  13320 non-null  object \n",
      " 2   location      13320 non-null  object \n",
      " 3   total_sqft    13320 non-null  object \n",
      " 4   bath          13320 non-null  float64\n",
      " 5   balcony       13320 non-null  float64\n",
      " 6   price         13320 non-null  float64\n",
      " 7   rooms         13320 non-null  int64  \n",
      "dtypes: float64(3), int64(1), object(4)\n",
      "memory usage: 832.6+ KB\n"
     ]
    }
   ],
   "source": [
    "df2.info()"
   ]
  },
  {
   "cell_type": "code",
   "execution_count": 44,
   "metadata": {},
   "outputs": [
    {
     "data": {
      "text/html": [
       "<div>\n",
       "<style scoped>\n",
       "    .dataframe tbody tr th:only-of-type {\n",
       "        vertical-align: middle;\n",
       "    }\n",
       "\n",
       "    .dataframe tbody tr th {\n",
       "        vertical-align: top;\n",
       "    }\n",
       "\n",
       "    .dataframe thead th {\n",
       "        text-align: right;\n",
       "    }\n",
       "</style>\n",
       "<table border=\"1\" class=\"dataframe\">\n",
       "  <thead>\n",
       "    <tr style=\"text-align: right;\">\n",
       "      <th></th>\n",
       "      <th>area_type</th>\n",
       "      <th>availability</th>\n",
       "      <th>location</th>\n",
       "      <th>total_sqft</th>\n",
       "      <th>bath</th>\n",
       "      <th>balcony</th>\n",
       "      <th>price</th>\n",
       "      <th>rooms</th>\n",
       "    </tr>\n",
       "  </thead>\n",
       "  <tbody>\n",
       "    <tr>\n",
       "      <th>0</th>\n",
       "      <td>Super built-up  Area</td>\n",
       "      <td>19-Dec</td>\n",
       "      <td>Electronic City Phase II</td>\n",
       "      <td>1056</td>\n",
       "      <td>2.0</td>\n",
       "      <td>1.0</td>\n",
       "      <td>39.07</td>\n",
       "      <td>4</td>\n",
       "    </tr>\n",
       "    <tr>\n",
       "      <th>1</th>\n",
       "      <td>Plot  Area</td>\n",
       "      <td>Ready To Move</td>\n",
       "      <td>Chikka Tirupathi</td>\n",
       "      <td>2600</td>\n",
       "      <td>5.0</td>\n",
       "      <td>3.0</td>\n",
       "      <td>120.00</td>\n",
       "      <td>4</td>\n",
       "    </tr>\n",
       "    <tr>\n",
       "      <th>2</th>\n",
       "      <td>Built-up  Area</td>\n",
       "      <td>Ready To Move</td>\n",
       "      <td>Uttarahalli</td>\n",
       "      <td>1440</td>\n",
       "      <td>2.0</td>\n",
       "      <td>3.0</td>\n",
       "      <td>62.00</td>\n",
       "      <td>5</td>\n",
       "    </tr>\n",
       "    <tr>\n",
       "      <th>3</th>\n",
       "      <td>Super built-up  Area</td>\n",
       "      <td>Ready To Move</td>\n",
       "      <td>Lingadheeranahalli</td>\n",
       "      <td>1521</td>\n",
       "      <td>3.0</td>\n",
       "      <td>1.0</td>\n",
       "      <td>95.00</td>\n",
       "      <td>5</td>\n",
       "    </tr>\n",
       "    <tr>\n",
       "      <th>4</th>\n",
       "      <td>Super built-up  Area</td>\n",
       "      <td>Ready To Move</td>\n",
       "      <td>Kothanur</td>\n",
       "      <td>1200</td>\n",
       "      <td>2.0</td>\n",
       "      <td>1.0</td>\n",
       "      <td>51.00</td>\n",
       "      <td>4</td>\n",
       "    </tr>\n",
       "  </tbody>\n",
       "</table>\n",
       "</div>"
      ],
      "text/plain": [
       "              area_type   availability                  location total_sqft  \\\n",
       "0  Super built-up  Area         19-Dec  Electronic City Phase II       1056   \n",
       "1            Plot  Area  Ready To Move          Chikka Tirupathi       2600   \n",
       "2        Built-up  Area  Ready To Move               Uttarahalli       1440   \n",
       "3  Super built-up  Area  Ready To Move        Lingadheeranahalli       1521   \n",
       "4  Super built-up  Area  Ready To Move                  Kothanur       1200   \n",
       "\n",
       "   bath  balcony   price  rooms  \n",
       "0   2.0      1.0   39.07      4  \n",
       "1   5.0      3.0  120.00      4  \n",
       "2   2.0      3.0   62.00      5  \n",
       "3   3.0      1.0   95.00      5  \n",
       "4   2.0      1.0   51.00      4  "
      ]
     },
     "execution_count": 44,
     "metadata": {},
     "output_type": "execute_result"
    }
   ],
   "source": [
    "df2.head()"
   ]
  },
  {
   "cell_type": "code",
   "execution_count": 45,
   "metadata": {},
   "outputs": [],
   "source": [
    "df2['bath']=df2['bath'].apply(np.int64)\n",
    "df2['balcony']=df2['balcony'].apply(np.int64)"
   ]
  },
  {
   "cell_type": "code",
   "execution_count": 46,
   "metadata": {},
   "outputs": [
    {
     "name": "stdout",
     "output_type": "stream",
     "text": [
      "<class 'pandas.core.frame.DataFrame'>\n",
      "RangeIndex: 13320 entries, 0 to 13319\n",
      "Data columns (total 8 columns):\n",
      " #   Column        Non-Null Count  Dtype  \n",
      "---  ------        --------------  -----  \n",
      " 0   area_type     13320 non-null  object \n",
      " 1   availability  13320 non-null  object \n",
      " 2   location      13320 non-null  object \n",
      " 3   total_sqft    13320 non-null  object \n",
      " 4   bath          13320 non-null  int64  \n",
      " 5   balcony       13320 non-null  int64  \n",
      " 6   price         13320 non-null  float64\n",
      " 7   rooms         13320 non-null  int64  \n",
      "dtypes: float64(1), int64(3), object(4)\n",
      "memory usage: 832.6+ KB\n"
     ]
    }
   ],
   "source": [
    "df2.info()"
   ]
  },
  {
   "cell_type": "code",
   "execution_count": 47,
   "metadata": {},
   "outputs": [
    {
     "data": {
      "text/html": [
       "<div>\n",
       "<style scoped>\n",
       "    .dataframe tbody tr th:only-of-type {\n",
       "        vertical-align: middle;\n",
       "    }\n",
       "\n",
       "    .dataframe tbody tr th {\n",
       "        vertical-align: top;\n",
       "    }\n",
       "\n",
       "    .dataframe thead th {\n",
       "        text-align: right;\n",
       "    }\n",
       "</style>\n",
       "<table border=\"1\" class=\"dataframe\">\n",
       "  <thead>\n",
       "    <tr style=\"text-align: right;\">\n",
       "      <th></th>\n",
       "      <th>area_type</th>\n",
       "      <th>availability</th>\n",
       "      <th>location</th>\n",
       "      <th>total_sqft</th>\n",
       "      <th>bath</th>\n",
       "      <th>balcony</th>\n",
       "      <th>price</th>\n",
       "      <th>rooms</th>\n",
       "    </tr>\n",
       "  </thead>\n",
       "  <tbody>\n",
       "    <tr>\n",
       "      <th>0</th>\n",
       "      <td>Super built-up  Area</td>\n",
       "      <td>19-Dec</td>\n",
       "      <td>Electronic City Phase II</td>\n",
       "      <td>1056</td>\n",
       "      <td>2</td>\n",
       "      <td>1</td>\n",
       "      <td>39.07</td>\n",
       "      <td>4</td>\n",
       "    </tr>\n",
       "    <tr>\n",
       "      <th>1</th>\n",
       "      <td>Plot  Area</td>\n",
       "      <td>Ready To Move</td>\n",
       "      <td>Chikka Tirupathi</td>\n",
       "      <td>2600</td>\n",
       "      <td>5</td>\n",
       "      <td>3</td>\n",
       "      <td>120.00</td>\n",
       "      <td>4</td>\n",
       "    </tr>\n",
       "    <tr>\n",
       "      <th>2</th>\n",
       "      <td>Built-up  Area</td>\n",
       "      <td>Ready To Move</td>\n",
       "      <td>Uttarahalli</td>\n",
       "      <td>1440</td>\n",
       "      <td>2</td>\n",
       "      <td>3</td>\n",
       "      <td>62.00</td>\n",
       "      <td>5</td>\n",
       "    </tr>\n",
       "    <tr>\n",
       "      <th>3</th>\n",
       "      <td>Super built-up  Area</td>\n",
       "      <td>Ready To Move</td>\n",
       "      <td>Lingadheeranahalli</td>\n",
       "      <td>1521</td>\n",
       "      <td>3</td>\n",
       "      <td>1</td>\n",
       "      <td>95.00</td>\n",
       "      <td>5</td>\n",
       "    </tr>\n",
       "    <tr>\n",
       "      <th>4</th>\n",
       "      <td>Super built-up  Area</td>\n",
       "      <td>Ready To Move</td>\n",
       "      <td>Kothanur</td>\n",
       "      <td>1200</td>\n",
       "      <td>2</td>\n",
       "      <td>1</td>\n",
       "      <td>51.00</td>\n",
       "      <td>4</td>\n",
       "    </tr>\n",
       "  </tbody>\n",
       "</table>\n",
       "</div>"
      ],
      "text/plain": [
       "              area_type   availability                  location total_sqft  \\\n",
       "0  Super built-up  Area         19-Dec  Electronic City Phase II       1056   \n",
       "1            Plot  Area  Ready To Move          Chikka Tirupathi       2600   \n",
       "2        Built-up  Area  Ready To Move               Uttarahalli       1440   \n",
       "3  Super built-up  Area  Ready To Move        Lingadheeranahalli       1521   \n",
       "4  Super built-up  Area  Ready To Move                  Kothanur       1200   \n",
       "\n",
       "   bath  balcony   price  rooms  \n",
       "0     2        1   39.07      4  \n",
       "1     5        3  120.00      4  \n",
       "2     2        3   62.00      5  \n",
       "3     3        1   95.00      5  \n",
       "4     2        1   51.00      4  "
      ]
     },
     "execution_count": 47,
     "metadata": {},
     "output_type": "execute_result"
    }
   ],
   "source": [
    "df2.head()"
   ]
  },
  {
   "cell_type": "code",
   "execution_count": 48,
   "metadata": {},
   "outputs": [
    {
     "data": {
      "text/plain": [
       "Super built-up  Area    8790\n",
       "Built-up  Area          2418\n",
       "Plot  Area              2025\n",
       "Carpet  Area              87\n",
       "Name: area_type, dtype: int64"
      ]
     },
     "execution_count": 48,
     "metadata": {},
     "output_type": "execute_result"
    }
   ],
   "source": [
    "df2['area_type'].value_counts()"
   ]
  },
  {
   "cell_type": "code",
   "execution_count": 49,
   "metadata": {},
   "outputs": [
    {
     "data": {
      "text/html": [
       "<div>\n",
       "<style scoped>\n",
       "    .dataframe tbody tr th:only-of-type {\n",
       "        vertical-align: middle;\n",
       "    }\n",
       "\n",
       "    .dataframe tbody tr th {\n",
       "        vertical-align: top;\n",
       "    }\n",
       "\n",
       "    .dataframe thead th {\n",
       "        text-align: right;\n",
       "    }\n",
       "</style>\n",
       "<table border=\"1\" class=\"dataframe\">\n",
       "  <thead>\n",
       "    <tr style=\"text-align: right;\">\n",
       "      <th></th>\n",
       "      <th>total_sqft</th>\n",
       "      <th>bath</th>\n",
       "      <th>balcony</th>\n",
       "      <th>price</th>\n",
       "      <th>rooms</th>\n",
       "      <th>area_type_Built-up  Area</th>\n",
       "      <th>area_type_Carpet  Area</th>\n",
       "      <th>area_type_Plot  Area</th>\n",
       "      <th>area_type_Super built-up  Area</th>\n",
       "      <th>availability_14-Jul</th>\n",
       "      <th>...</th>\n",
       "      <th>location_rr nagar</th>\n",
       "      <th>location_sankeswari</th>\n",
       "      <th>location_sapthagiri Layout</th>\n",
       "      <th>location_sarjapura main road</th>\n",
       "      <th>location_singapura paradise</th>\n",
       "      <th>location_t.c palya</th>\n",
       "      <th>location_tc.palya</th>\n",
       "      <th>location_vinayakanagar</th>\n",
       "      <th>location_white field,kadugodi</th>\n",
       "      <th>location_whitefiled</th>\n",
       "    </tr>\n",
       "  </thead>\n",
       "  <tbody>\n",
       "    <tr>\n",
       "      <th>0</th>\n",
       "      <td>1056</td>\n",
       "      <td>2</td>\n",
       "      <td>1</td>\n",
       "      <td>39.07</td>\n",
       "      <td>4</td>\n",
       "      <td>0</td>\n",
       "      <td>0</td>\n",
       "      <td>0</td>\n",
       "      <td>1</td>\n",
       "      <td>0</td>\n",
       "      <td>...</td>\n",
       "      <td>0</td>\n",
       "      <td>0</td>\n",
       "      <td>0</td>\n",
       "      <td>0</td>\n",
       "      <td>0</td>\n",
       "      <td>0</td>\n",
       "      <td>0</td>\n",
       "      <td>0</td>\n",
       "      <td>0</td>\n",
       "      <td>0</td>\n",
       "    </tr>\n",
       "    <tr>\n",
       "      <th>1</th>\n",
       "      <td>2600</td>\n",
       "      <td>5</td>\n",
       "      <td>3</td>\n",
       "      <td>120.00</td>\n",
       "      <td>4</td>\n",
       "      <td>0</td>\n",
       "      <td>0</td>\n",
       "      <td>1</td>\n",
       "      <td>0</td>\n",
       "      <td>0</td>\n",
       "      <td>...</td>\n",
       "      <td>0</td>\n",
       "      <td>0</td>\n",
       "      <td>0</td>\n",
       "      <td>0</td>\n",
       "      <td>0</td>\n",
       "      <td>0</td>\n",
       "      <td>0</td>\n",
       "      <td>0</td>\n",
       "      <td>0</td>\n",
       "      <td>0</td>\n",
       "    </tr>\n",
       "    <tr>\n",
       "      <th>2</th>\n",
       "      <td>1440</td>\n",
       "      <td>2</td>\n",
       "      <td>3</td>\n",
       "      <td>62.00</td>\n",
       "      <td>5</td>\n",
       "      <td>1</td>\n",
       "      <td>0</td>\n",
       "      <td>0</td>\n",
       "      <td>0</td>\n",
       "      <td>0</td>\n",
       "      <td>...</td>\n",
       "      <td>0</td>\n",
       "      <td>0</td>\n",
       "      <td>0</td>\n",
       "      <td>0</td>\n",
       "      <td>0</td>\n",
       "      <td>0</td>\n",
       "      <td>0</td>\n",
       "      <td>0</td>\n",
       "      <td>0</td>\n",
       "      <td>0</td>\n",
       "    </tr>\n",
       "    <tr>\n",
       "      <th>3</th>\n",
       "      <td>1521</td>\n",
       "      <td>3</td>\n",
       "      <td>1</td>\n",
       "      <td>95.00</td>\n",
       "      <td>5</td>\n",
       "      <td>0</td>\n",
       "      <td>0</td>\n",
       "      <td>0</td>\n",
       "      <td>1</td>\n",
       "      <td>0</td>\n",
       "      <td>...</td>\n",
       "      <td>0</td>\n",
       "      <td>0</td>\n",
       "      <td>0</td>\n",
       "      <td>0</td>\n",
       "      <td>0</td>\n",
       "      <td>0</td>\n",
       "      <td>0</td>\n",
       "      <td>0</td>\n",
       "      <td>0</td>\n",
       "      <td>0</td>\n",
       "    </tr>\n",
       "    <tr>\n",
       "      <th>4</th>\n",
       "      <td>1200</td>\n",
       "      <td>2</td>\n",
       "      <td>1</td>\n",
       "      <td>51.00</td>\n",
       "      <td>4</td>\n",
       "      <td>0</td>\n",
       "      <td>0</td>\n",
       "      <td>0</td>\n",
       "      <td>1</td>\n",
       "      <td>0</td>\n",
       "      <td>...</td>\n",
       "      <td>0</td>\n",
       "      <td>0</td>\n",
       "      <td>0</td>\n",
       "      <td>0</td>\n",
       "      <td>0</td>\n",
       "      <td>0</td>\n",
       "      <td>0</td>\n",
       "      <td>0</td>\n",
       "      <td>0</td>\n",
       "      <td>0</td>\n",
       "    </tr>\n",
       "    <tr>\n",
       "      <th>...</th>\n",
       "      <td>...</td>\n",
       "      <td>...</td>\n",
       "      <td>...</td>\n",
       "      <td>...</td>\n",
       "      <td>...</td>\n",
       "      <td>...</td>\n",
       "      <td>...</td>\n",
       "      <td>...</td>\n",
       "      <td>...</td>\n",
       "      <td>...</td>\n",
       "      <td>...</td>\n",
       "      <td>...</td>\n",
       "      <td>...</td>\n",
       "      <td>...</td>\n",
       "      <td>...</td>\n",
       "      <td>...</td>\n",
       "      <td>...</td>\n",
       "      <td>...</td>\n",
       "      <td>...</td>\n",
       "      <td>...</td>\n",
       "      <td>...</td>\n",
       "    </tr>\n",
       "    <tr>\n",
       "      <th>13315</th>\n",
       "      <td>3453</td>\n",
       "      <td>4</td>\n",
       "      <td>0</td>\n",
       "      <td>231.00</td>\n",
       "      <td>5</td>\n",
       "      <td>1</td>\n",
       "      <td>0</td>\n",
       "      <td>0</td>\n",
       "      <td>0</td>\n",
       "      <td>0</td>\n",
       "      <td>...</td>\n",
       "      <td>0</td>\n",
       "      <td>0</td>\n",
       "      <td>0</td>\n",
       "      <td>0</td>\n",
       "      <td>0</td>\n",
       "      <td>0</td>\n",
       "      <td>0</td>\n",
       "      <td>0</td>\n",
       "      <td>0</td>\n",
       "      <td>0</td>\n",
       "    </tr>\n",
       "    <tr>\n",
       "      <th>13316</th>\n",
       "      <td>3600</td>\n",
       "      <td>5</td>\n",
       "      <td>2</td>\n",
       "      <td>400.00</td>\n",
       "      <td>6</td>\n",
       "      <td>0</td>\n",
       "      <td>0</td>\n",
       "      <td>0</td>\n",
       "      <td>1</td>\n",
       "      <td>0</td>\n",
       "      <td>...</td>\n",
       "      <td>0</td>\n",
       "      <td>0</td>\n",
       "      <td>0</td>\n",
       "      <td>0</td>\n",
       "      <td>0</td>\n",
       "      <td>0</td>\n",
       "      <td>0</td>\n",
       "      <td>0</td>\n",
       "      <td>0</td>\n",
       "      <td>0</td>\n",
       "    </tr>\n",
       "    <tr>\n",
       "      <th>13317</th>\n",
       "      <td>1141</td>\n",
       "      <td>2</td>\n",
       "      <td>1</td>\n",
       "      <td>60.00</td>\n",
       "      <td>4</td>\n",
       "      <td>1</td>\n",
       "      <td>0</td>\n",
       "      <td>0</td>\n",
       "      <td>0</td>\n",
       "      <td>0</td>\n",
       "      <td>...</td>\n",
       "      <td>0</td>\n",
       "      <td>0</td>\n",
       "      <td>0</td>\n",
       "      <td>0</td>\n",
       "      <td>0</td>\n",
       "      <td>0</td>\n",
       "      <td>0</td>\n",
       "      <td>0</td>\n",
       "      <td>0</td>\n",
       "      <td>0</td>\n",
       "    </tr>\n",
       "    <tr>\n",
       "      <th>13318</th>\n",
       "      <td>4689</td>\n",
       "      <td>4</td>\n",
       "      <td>1</td>\n",
       "      <td>488.00</td>\n",
       "      <td>6</td>\n",
       "      <td>0</td>\n",
       "      <td>0</td>\n",
       "      <td>0</td>\n",
       "      <td>1</td>\n",
       "      <td>0</td>\n",
       "      <td>...</td>\n",
       "      <td>0</td>\n",
       "      <td>0</td>\n",
       "      <td>0</td>\n",
       "      <td>0</td>\n",
       "      <td>0</td>\n",
       "      <td>0</td>\n",
       "      <td>0</td>\n",
       "      <td>0</td>\n",
       "      <td>0</td>\n",
       "      <td>0</td>\n",
       "    </tr>\n",
       "    <tr>\n",
       "      <th>13319</th>\n",
       "      <td>550</td>\n",
       "      <td>1</td>\n",
       "      <td>1</td>\n",
       "      <td>17.00</td>\n",
       "      <td>3</td>\n",
       "      <td>0</td>\n",
       "      <td>0</td>\n",
       "      <td>0</td>\n",
       "      <td>1</td>\n",
       "      <td>0</td>\n",
       "      <td>...</td>\n",
       "      <td>0</td>\n",
       "      <td>0</td>\n",
       "      <td>0</td>\n",
       "      <td>0</td>\n",
       "      <td>0</td>\n",
       "      <td>0</td>\n",
       "      <td>0</td>\n",
       "      <td>0</td>\n",
       "      <td>0</td>\n",
       "      <td>0</td>\n",
       "    </tr>\n",
       "  </tbody>\n",
       "</table>\n",
       "<p>13320 rows × 1395 columns</p>\n",
       "</div>"
      ],
      "text/plain": [
       "      total_sqft  bath  balcony   price  rooms  area_type_Built-up  Area  \\\n",
       "0           1056     2        1   39.07      4                         0   \n",
       "1           2600     5        3  120.00      4                         0   \n",
       "2           1440     2        3   62.00      5                         1   \n",
       "3           1521     3        1   95.00      5                         0   \n",
       "4           1200     2        1   51.00      4                         0   \n",
       "...          ...   ...      ...     ...    ...                       ...   \n",
       "13315       3453     4        0  231.00      5                         1   \n",
       "13316       3600     5        2  400.00      6                         0   \n",
       "13317       1141     2        1   60.00      4                         1   \n",
       "13318       4689     4        1  488.00      6                         0   \n",
       "13319        550     1        1   17.00      3                         0   \n",
       "\n",
       "       area_type_Carpet  Area  area_type_Plot  Area  \\\n",
       "0                           0                     0   \n",
       "1                           0                     1   \n",
       "2                           0                     0   \n",
       "3                           0                     0   \n",
       "4                           0                     0   \n",
       "...                       ...                   ...   \n",
       "13315                       0                     0   \n",
       "13316                       0                     0   \n",
       "13317                       0                     0   \n",
       "13318                       0                     0   \n",
       "13319                       0                     0   \n",
       "\n",
       "       area_type_Super built-up  Area  availability_14-Jul  ...  \\\n",
       "0                                   1                    0  ...   \n",
       "1                                   0                    0  ...   \n",
       "2                                   0                    0  ...   \n",
       "3                                   1                    0  ...   \n",
       "4                                   1                    0  ...   \n",
       "...                               ...                  ...  ...   \n",
       "13315                               0                    0  ...   \n",
       "13316                               1                    0  ...   \n",
       "13317                               0                    0  ...   \n",
       "13318                               1                    0  ...   \n",
       "13319                               1                    0  ...   \n",
       "\n",
       "       location_rr nagar  location_sankeswari  location_sapthagiri Layout  \\\n",
       "0                      0                    0                           0   \n",
       "1                      0                    0                           0   \n",
       "2                      0                    0                           0   \n",
       "3                      0                    0                           0   \n",
       "4                      0                    0                           0   \n",
       "...                  ...                  ...                         ...   \n",
       "13315                  0                    0                           0   \n",
       "13316                  0                    0                           0   \n",
       "13317                  0                    0                           0   \n",
       "13318                  0                    0                           0   \n",
       "13319                  0                    0                           0   \n",
       "\n",
       "       location_sarjapura main road  location_singapura paradise  \\\n",
       "0                                 0                            0   \n",
       "1                                 0                            0   \n",
       "2                                 0                            0   \n",
       "3                                 0                            0   \n",
       "4                                 0                            0   \n",
       "...                             ...                          ...   \n",
       "13315                             0                            0   \n",
       "13316                             0                            0   \n",
       "13317                             0                            0   \n",
       "13318                             0                            0   \n",
       "13319                             0                            0   \n",
       "\n",
       "       location_t.c palya  location_tc.palya  location_vinayakanagar  \\\n",
       "0                       0                  0                       0   \n",
       "1                       0                  0                       0   \n",
       "2                       0                  0                       0   \n",
       "3                       0                  0                       0   \n",
       "4                       0                  0                       0   \n",
       "...                   ...                ...                     ...   \n",
       "13315                   0                  0                       0   \n",
       "13316                   0                  0                       0   \n",
       "13317                   0                  0                       0   \n",
       "13318                   0                  0                       0   \n",
       "13319                   0                  0                       0   \n",
       "\n",
       "       location_white field,kadugodi  location_whitefiled  \n",
       "0                                  0                    0  \n",
       "1                                  0                    0  \n",
       "2                                  0                    0  \n",
       "3                                  0                    0  \n",
       "4                                  0                    0  \n",
       "...                              ...                  ...  \n",
       "13315                              0                    0  \n",
       "13316                              0                    0  \n",
       "13317                              0                    0  \n",
       "13318                              0                    0  \n",
       "13319                              0                    0  \n",
       "\n",
       "[13320 rows x 1395 columns]"
      ]
     },
     "execution_count": 49,
     "metadata": {},
     "output_type": "execute_result"
    }
   ],
   "source": [
    "df_dummy=pd.get_dummies(df2,columns=['area_type','availability','location'])\n",
    "df_dummy"
   ]
  },
  {
   "cell_type": "code",
   "execution_count": 50,
   "metadata": {},
   "outputs": [
    {
     "data": {
      "text/plain": [
       "array(['1056', '2600', '1440', ..., '1133 - 1384', '774', '4689'],\n",
       "      dtype=object)"
      ]
     },
     "execution_count": 50,
     "metadata": {},
     "output_type": "execute_result"
    }
   ],
   "source": [
    "df2['total_sqft'].unique()"
   ]
  },
  {
   "cell_type": "code",
   "execution_count": 51,
   "metadata": {},
   "outputs": [
    {
     "data": {
      "text/plain": [
       "1200    843\n",
       "1100    221\n",
       "1500    205\n",
       "2400    196\n",
       "600     180\n",
       "       ... \n",
       "6600      1\n",
       "1337      1\n",
       "5515      1\n",
       "1383      1\n",
       "4428      1\n",
       "Name: total_sqft, Length: 2117, dtype: int64"
      ]
     },
     "execution_count": 51,
     "metadata": {},
     "output_type": "execute_result"
    }
   ],
   "source": [
    "df2['total_sqft'].value_counts()"
   ]
  },
  {
   "cell_type": "code",
   "execution_count": 52,
   "metadata": {},
   "outputs": [],
   "source": [
    "k=[]\n",
    "for item in df2['total_sqft']:\n",
    "    try:\n",
    "        k.append(int(item))\n",
    "    except:\n",
    "        try:\n",
    "            p=item.split(\"-\")\n",
    "            p1=float(p[0])\n",
    "            p2=float(p[1])\n",
    "            p3=(p1+p2)/2\n",
    "            k.append(int(p3))\n",
    "        except:\n",
    "            s=\"\"\n",
    "            for j in item:\n",
    "                if j.isnumeric():\n",
    "                    s+=j\n",
    "            k.append(int(s))\n",
    "            \n",
    "    "
   ]
  },
  {
   "cell_type": "code",
   "execution_count": 53,
   "metadata": {},
   "outputs": [],
   "source": [
    "df2['area']=k"
   ]
  },
  {
   "cell_type": "code",
   "execution_count": 54,
   "metadata": {},
   "outputs": [],
   "source": [
    "df3=df2.drop(['total_sqft'],axis=1)"
   ]
  },
  {
   "cell_type": "code",
   "execution_count": 55,
   "metadata": {},
   "outputs": [
    {
     "name": "stdout",
     "output_type": "stream",
     "text": [
      "<class 'pandas.core.frame.DataFrame'>\n",
      "RangeIndex: 13320 entries, 0 to 13319\n",
      "Data columns (total 8 columns):\n",
      " #   Column        Non-Null Count  Dtype  \n",
      "---  ------        --------------  -----  \n",
      " 0   area_type     13320 non-null  object \n",
      " 1   availability  13320 non-null  object \n",
      " 2   location      13320 non-null  object \n",
      " 3   bath          13320 non-null  int64  \n",
      " 4   balcony       13320 non-null  int64  \n",
      " 5   price         13320 non-null  float64\n",
      " 6   rooms         13320 non-null  int64  \n",
      " 7   area          13320 non-null  int64  \n",
      "dtypes: float64(1), int64(4), object(3)\n",
      "memory usage: 832.6+ KB\n"
     ]
    }
   ],
   "source": [
    "df3.info()"
   ]
  },
  {
   "cell_type": "code",
   "execution_count": 56,
   "metadata": {},
   "outputs": [
    {
     "data": {
      "text/html": [
       "<div>\n",
       "<style scoped>\n",
       "    .dataframe tbody tr th:only-of-type {\n",
       "        vertical-align: middle;\n",
       "    }\n",
       "\n",
       "    .dataframe tbody tr th {\n",
       "        vertical-align: top;\n",
       "    }\n",
       "\n",
       "    .dataframe thead th {\n",
       "        text-align: right;\n",
       "    }\n",
       "</style>\n",
       "<table border=\"1\" class=\"dataframe\">\n",
       "  <thead>\n",
       "    <tr style=\"text-align: right;\">\n",
       "      <th></th>\n",
       "      <th>area_type</th>\n",
       "      <th>availability</th>\n",
       "      <th>location</th>\n",
       "      <th>bath</th>\n",
       "      <th>balcony</th>\n",
       "      <th>price</th>\n",
       "      <th>rooms</th>\n",
       "      <th>area</th>\n",
       "    </tr>\n",
       "  </thead>\n",
       "  <tbody>\n",
       "    <tr>\n",
       "      <th>0</th>\n",
       "      <td>Super built-up  Area</td>\n",
       "      <td>19-Dec</td>\n",
       "      <td>Electronic City Phase II</td>\n",
       "      <td>2</td>\n",
       "      <td>1</td>\n",
       "      <td>39.07</td>\n",
       "      <td>4</td>\n",
       "      <td>1056</td>\n",
       "    </tr>\n",
       "    <tr>\n",
       "      <th>1</th>\n",
       "      <td>Plot  Area</td>\n",
       "      <td>Ready To Move</td>\n",
       "      <td>Chikka Tirupathi</td>\n",
       "      <td>5</td>\n",
       "      <td>3</td>\n",
       "      <td>120.00</td>\n",
       "      <td>4</td>\n",
       "      <td>2600</td>\n",
       "    </tr>\n",
       "    <tr>\n",
       "      <th>2</th>\n",
       "      <td>Built-up  Area</td>\n",
       "      <td>Ready To Move</td>\n",
       "      <td>Uttarahalli</td>\n",
       "      <td>2</td>\n",
       "      <td>3</td>\n",
       "      <td>62.00</td>\n",
       "      <td>5</td>\n",
       "      <td>1440</td>\n",
       "    </tr>\n",
       "    <tr>\n",
       "      <th>3</th>\n",
       "      <td>Super built-up  Area</td>\n",
       "      <td>Ready To Move</td>\n",
       "      <td>Lingadheeranahalli</td>\n",
       "      <td>3</td>\n",
       "      <td>1</td>\n",
       "      <td>95.00</td>\n",
       "      <td>5</td>\n",
       "      <td>1521</td>\n",
       "    </tr>\n",
       "    <tr>\n",
       "      <th>4</th>\n",
       "      <td>Super built-up  Area</td>\n",
       "      <td>Ready To Move</td>\n",
       "      <td>Kothanur</td>\n",
       "      <td>2</td>\n",
       "      <td>1</td>\n",
       "      <td>51.00</td>\n",
       "      <td>4</td>\n",
       "      <td>1200</td>\n",
       "    </tr>\n",
       "  </tbody>\n",
       "</table>\n",
       "</div>"
      ],
      "text/plain": [
       "              area_type   availability                  location  bath  \\\n",
       "0  Super built-up  Area         19-Dec  Electronic City Phase II     2   \n",
       "1            Plot  Area  Ready To Move          Chikka Tirupathi     5   \n",
       "2        Built-up  Area  Ready To Move               Uttarahalli     2   \n",
       "3  Super built-up  Area  Ready To Move        Lingadheeranahalli     3   \n",
       "4  Super built-up  Area  Ready To Move                  Kothanur     2   \n",
       "\n",
       "   balcony   price  rooms  area  \n",
       "0        1   39.07      4  1056  \n",
       "1        3  120.00      4  2600  \n",
       "2        3   62.00      5  1440  \n",
       "3        1   95.00      5  1521  \n",
       "4        1   51.00      4  1200  "
      ]
     },
     "execution_count": 56,
     "metadata": {},
     "output_type": "execute_result"
    }
   ],
   "source": [
    "df3.head() "
   ]
  },
  {
   "cell_type": "markdown",
   "metadata": {},
   "source": [
    "# Co-Relations and outliers"
   ]
  },
  {
   "cell_type": "markdown",
   "metadata": {},
   "source": [
    "# AREA Feature Analysis"
   ]
  },
  {
   "cell_type": "code",
   "execution_count": 57,
   "metadata": {},
   "outputs": [
    {
     "data": {
      "text/plain": [
       "count     13320.000000\n",
       "mean       2396.818468\n",
       "std       12958.174712\n",
       "min           1.000000\n",
       "25%        1100.000000\n",
       "50%        1278.000000\n",
       "75%        1690.000000\n",
       "max      566584.000000\n",
       "Name: area, dtype: float64"
      ]
     },
     "execution_count": 57,
     "metadata": {},
     "output_type": "execute_result"
    }
   ],
   "source": [
    "df3['area'].describe()"
   ]
  },
  {
   "cell_type": "code",
   "execution_count": 58,
   "metadata": {},
   "outputs": [
    {
     "data": {
      "text/html": [
       "<div>\n",
       "<style scoped>\n",
       "    .dataframe tbody tr th:only-of-type {\n",
       "        vertical-align: middle;\n",
       "    }\n",
       "\n",
       "    .dataframe tbody tr th {\n",
       "        vertical-align: top;\n",
       "    }\n",
       "\n",
       "    .dataframe thead th {\n",
       "        text-align: right;\n",
       "    }\n",
       "</style>\n",
       "<table border=\"1\" class=\"dataframe\">\n",
       "  <thead>\n",
       "    <tr style=\"text-align: right;\">\n",
       "      <th></th>\n",
       "      <th>bath</th>\n",
       "      <th>balcony</th>\n",
       "      <th>price</th>\n",
       "      <th>rooms</th>\n",
       "      <th>area</th>\n",
       "    </tr>\n",
       "  </thead>\n",
       "  <tbody>\n",
       "    <tr>\n",
       "      <th>bath</th>\n",
       "      <td>1.000000</td>\n",
       "      <td>0.207970</td>\n",
       "      <td>0.454449</td>\n",
       "      <td>0.709828</td>\n",
       "      <td>0.071166</td>\n",
       "    </tr>\n",
       "    <tr>\n",
       "      <th>balcony</th>\n",
       "      <td>0.207970</td>\n",
       "      <td>1.000000</td>\n",
       "      <td>0.124951</td>\n",
       "      <td>0.298303</td>\n",
       "      <td>0.023768</td>\n",
       "    </tr>\n",
       "    <tr>\n",
       "      <th>price</th>\n",
       "      <td>0.454449</td>\n",
       "      <td>0.124951</td>\n",
       "      <td>1.000000</td>\n",
       "      <td>0.242039</td>\n",
       "      <td>0.095890</td>\n",
       "    </tr>\n",
       "    <tr>\n",
       "      <th>rooms</th>\n",
       "      <td>0.709828</td>\n",
       "      <td>0.298303</td>\n",
       "      <td>0.242039</td>\n",
       "      <td>1.000000</td>\n",
       "      <td>0.057895</td>\n",
       "    </tr>\n",
       "    <tr>\n",
       "      <th>area</th>\n",
       "      <td>0.071166</td>\n",
       "      <td>0.023768</td>\n",
       "      <td>0.095890</td>\n",
       "      <td>0.057895</td>\n",
       "      <td>1.000000</td>\n",
       "    </tr>\n",
       "  </tbody>\n",
       "</table>\n",
       "</div>"
      ],
      "text/plain": [
       "             bath   balcony     price     rooms      area\n",
       "bath     1.000000  0.207970  0.454449  0.709828  0.071166\n",
       "balcony  0.207970  1.000000  0.124951  0.298303  0.023768\n",
       "price    0.454449  0.124951  1.000000  0.242039  0.095890\n",
       "rooms    0.709828  0.298303  0.242039  1.000000  0.057895\n",
       "area     0.071166  0.023768  0.095890  0.057895  1.000000"
      ]
     },
     "execution_count": 58,
     "metadata": {},
     "output_type": "execute_result"
    }
   ],
   "source": [
    "df3.corr()"
   ]
  },
  {
   "cell_type": "code",
   "execution_count": 59,
   "metadata": {},
   "outputs": [
    {
     "data": {
      "text/plain": [
       "<matplotlib.collections.PathCollection at 0x21f93246358>"
      ]
     },
     "execution_count": 59,
     "metadata": {},
     "output_type": "execute_result"
    },
    {
     "data": {
      "image/png": "[encoded data removed]",
      "text/plain": [
       "<Figure size 720x720 with 1 Axes>"
      ]
     },
     "metadata": {},
     "output_type": "display_data"
    }
   ],
   "source": [
    "plt.figure(figsize=(10,10))\n",
    "plt.scatter(df3['area'],df3['price'])"
   ]
  },
  {
   "cell_type": "code",
   "execution_count": 60,
   "metadata": {},
   "outputs": [
    {
     "data": {
      "text/plain": [
       "(array([1.326e+04, 8.000e+00, 2.200e+01, 2.200e+01, 5.000e+00, 1.000e+00,\n",
       "        1.000e+00, 0.000e+00, 0.000e+00, 1.000e+00]),\n",
       " array([1.000000e+00, 5.665930e+04, 1.133176e+05, 1.699759e+05,\n",
       "        2.266342e+05, 2.832925e+05, 3.399508e+05, 3.966091e+05,\n",
       "        4.532674e+05, 5.099257e+05, 5.665840e+05]),\n",
       " <BarContainer object of 10 artists>)"
      ]
     },
     "execution_count": 60,
     "metadata": {},
     "output_type": "execute_result"
    },
    {
     "data": {
      "image/png": "[encoded data removed]",
      "text/plain": [
       "<Figure size 432x288 with 1 Axes>"
      ]
     },
     "metadata": {},
     "output_type": "display_data"
    }
   ],
   "source": [
    "plt.hist(df3['area'])"
   ]
  },
  {
   "cell_type": "code",
   "execution_count": 61,
   "metadata": {},
   "outputs": [
    {
     "data": {
      "text/plain": [
       "1278.0"
      ]
     },
     "execution_count": 61,
     "metadata": {},
     "output_type": "execute_result"
    }
   ],
   "source": [
    "df3['area'].median()"
   ]
  },
  {
   "cell_type": "code",
   "execution_count": 62,
   "metadata": {},
   "outputs": [
    {
     "data": {
      "text/plain": [
       "98.68618618618619"
      ]
     },
     "execution_count": 62,
     "metadata": {},
     "output_type": "execute_result"
    }
   ],
   "source": [
    "df3[df3['area']<=6000].shape[0]/df3.shape[0]*100"
   ]
  },
  {
   "cell_type": "code",
   "execution_count": 63,
   "metadata": {},
   "outputs": [
    {
     "data": {
      "text/plain": [
       "(13145, 8)"
      ]
     },
     "execution_count": 63,
     "metadata": {},
     "output_type": "execute_result"
    }
   ],
   "source": [
    "df31=df3[df3['area']<=6000]\n",
    "df31.shape"
   ]
  },
  {
   "cell_type": "code",
   "execution_count": 64,
   "metadata": {},
   "outputs": [
    {
     "data": {
      "image/png": "[encoded data removed]",
      "text/plain": [
       "<Figure size 432x288 with 1 Axes>"
      ]
     },
     "metadata": {},
     "output_type": "display_data"
    }
   ],
   "source": [
    "plt.hist(df31['area'])\n",
    "plt.show()"
   ]
  },
  {
   "cell_type": "code",
   "execution_count": 65,
   "metadata": {},
   "outputs": [
    {
     "data": {
      "text/plain": [
       "count    13145.000000\n",
       "mean      1499.581134\n",
       "std        757.462989\n",
       "min          1.000000\n",
       "25%       1100.000000\n",
       "50%       1270.000000\n",
       "75%       1660.000000\n",
       "max       6000.000000\n",
       "Name: area, dtype: float64"
      ]
     },
     "execution_count": 65,
     "metadata": {},
     "output_type": "execute_result"
    }
   ],
   "source": [
    "df31['area'].describe()"
   ]
  },
  {
   "cell_type": "code",
   "execution_count": 66,
   "metadata": {},
   "outputs": [
    {
     "data": {
      "text/plain": [
       "<AxesSubplot:xlabel='area'>"
      ]
     },
     "execution_count": 66,
     "metadata": {},
     "output_type": "execute_result"
    },
    {
     "data": {
      "image/png": "[encoded data removed]",
      "text/plain": [
       "<Figure size 432x288 with 1 Axes>"
      ]
     },
     "metadata": {},
     "output_type": "display_data"
    }
   ],
   "source": [
    "sns.boxplot(x=df31['area'])"
   ]
  },
  {
   "cell_type": "code",
   "execution_count": 67,
   "metadata": {},
   "outputs": [
    {
     "data": {
      "text/plain": [
       "<matplotlib.collections.PathCollection at 0x21f93b0fd68>"
      ]
     },
     "execution_count": 67,
     "metadata": {},
     "output_type": "execute_result"
    },
    {
     "data": {
      "image/png": "[encoded data removed]",
      "text/plain": [
       "<Figure size 720x720 with 1 Axes>"
      ]
     },
     "metadata": {},
     "output_type": "display_data"
    }
   ],
   "source": [
    "plt.figure(figsize=(10,10))\n",
    "plt.scatter(df31['area'],df31['price'])"
   ]
  },
  {
   "cell_type": "code",
   "execution_count": 68,
   "metadata": {},
   "outputs": [
    {
     "data": {
      "text/html": [
       "<div>\n",
       "<style scoped>\n",
       "    .dataframe tbody tr th:only-of-type {\n",
       "        vertical-align: middle;\n",
       "    }\n",
       "\n",
       "    .dataframe tbody tr th {\n",
       "        vertical-align: top;\n",
       "    }\n",
       "\n",
       "    .dataframe thead th {\n",
       "        text-align: right;\n",
       "    }\n",
       "</style>\n",
       "<table border=\"1\" class=\"dataframe\">\n",
       "  <thead>\n",
       "    <tr style=\"text-align: right;\">\n",
       "      <th></th>\n",
       "      <th>bath</th>\n",
       "      <th>balcony</th>\n",
       "      <th>price</th>\n",
       "      <th>rooms</th>\n",
       "      <th>area</th>\n",
       "    </tr>\n",
       "  </thead>\n",
       "  <tbody>\n",
       "    <tr>\n",
       "      <th>bath</th>\n",
       "      <td>1.000000</td>\n",
       "      <td>0.212430</td>\n",
       "      <td>0.500131</td>\n",
       "      <td>0.695578</td>\n",
       "      <td>0.516292</td>\n",
       "    </tr>\n",
       "    <tr>\n",
       "      <th>balcony</th>\n",
       "      <td>0.212430</td>\n",
       "      <td>1.000000</td>\n",
       "      <td>0.133029</td>\n",
       "      <td>0.308089</td>\n",
       "      <td>0.224881</td>\n",
       "    </tr>\n",
       "    <tr>\n",
       "      <th>price</th>\n",
       "      <td>0.500131</td>\n",
       "      <td>0.133029</td>\n",
       "      <td>1.000000</td>\n",
       "      <td>0.262731</td>\n",
       "      <td>0.693059</td>\n",
       "    </tr>\n",
       "    <tr>\n",
       "      <th>rooms</th>\n",
       "      <td>0.695578</td>\n",
       "      <td>0.308089</td>\n",
       "      <td>0.262731</td>\n",
       "      <td>1.000000</td>\n",
       "      <td>0.384843</td>\n",
       "    </tr>\n",
       "    <tr>\n",
       "      <th>area</th>\n",
       "      <td>0.516292</td>\n",
       "      <td>0.224881</td>\n",
       "      <td>0.693059</td>\n",
       "      <td>0.384843</td>\n",
       "      <td>1.000000</td>\n",
       "    </tr>\n",
       "  </tbody>\n",
       "</table>\n",
       "</div>"
      ],
      "text/plain": [
       "             bath   balcony     price     rooms      area\n",
       "bath     1.000000  0.212430  0.500131  0.695578  0.516292\n",
       "balcony  0.212430  1.000000  0.133029  0.308089  0.224881\n",
       "price    0.500131  0.133029  1.000000  0.262731  0.693059\n",
       "rooms    0.695578  0.308089  0.262731  1.000000  0.384843\n",
       "area     0.516292  0.224881  0.693059  0.384843  1.000000"
      ]
     },
     "execution_count": 68,
     "metadata": {},
     "output_type": "execute_result"
    }
   ],
   "source": [
    "df31.corr()"
   ]
  },
  {
   "cell_type": "markdown",
   "metadata": {},
   "source": [
    "# Price Analysis"
   ]
  },
  {
   "cell_type": "code",
   "execution_count": 69,
   "metadata": {},
   "outputs": [
    {
     "data": {
      "image/png": "[encoded data removed]",
      "text/plain": [
       "<Figure size 432x288 with 1 Axes>"
      ]
     },
     "metadata": {},
     "output_type": "display_data"
    }
   ],
   "source": [
    "plt.hist(df31['price'])\n",
    "plt.show()"
   ]
  },
  {
   "cell_type": "code",
   "execution_count": 70,
   "metadata": {},
   "outputs": [
    {
     "data": {
      "text/plain": [
       "count    13145.000000\n",
       "mean       106.704523\n",
       "std        113.175396\n",
       "min          8.000000\n",
       "25%         50.000000\n",
       "50%         71.000000\n",
       "75%        120.000000\n",
       "max       2600.000000\n",
       "Name: price, dtype: float64"
      ]
     },
     "execution_count": 70,
     "metadata": {},
     "output_type": "execute_result"
    }
   ],
   "source": [
    "df31['price'].describe()"
   ]
  },
  {
   "cell_type": "code",
   "execution_count": 71,
   "metadata": {},
   "outputs": [
    {
     "data": {
      "text/plain": [
       "98.60022822365919"
      ]
     },
     "execution_count": 71,
     "metadata": {},
     "output_type": "execute_result"
    }
   ],
   "source": [
    "df31[df31['price']<=500].shape[0]/df31.shape[0]*100"
   ]
  },
  {
   "cell_type": "code",
   "execution_count": 72,
   "metadata": {},
   "outputs": [
    {
     "data": {
      "text/plain": [
       "(12961, 8)"
      ]
     },
     "execution_count": 72,
     "metadata": {},
     "output_type": "execute_result"
    }
   ],
   "source": [
    "df312=df31[df31['price']<=500]\n",
    "df312.shape"
   ]
  },
  {
   "cell_type": "code",
   "execution_count": 73,
   "metadata": {},
   "outputs": [
    {
     "data": {
      "text/html": [
       "<div>\n",
       "<style scoped>\n",
       "    .dataframe tbody tr th:only-of-type {\n",
       "        vertical-align: middle;\n",
       "    }\n",
       "\n",
       "    .dataframe tbody tr th {\n",
       "        vertical-align: top;\n",
       "    }\n",
       "\n",
       "    .dataframe thead th {\n",
       "        text-align: right;\n",
       "    }\n",
       "</style>\n",
       "<table border=\"1\" class=\"dataframe\">\n",
       "  <thead>\n",
       "    <tr style=\"text-align: right;\">\n",
       "      <th></th>\n",
       "      <th>bath</th>\n",
       "      <th>balcony</th>\n",
       "      <th>price</th>\n",
       "      <th>rooms</th>\n",
       "      <th>area</th>\n",
       "    </tr>\n",
       "  </thead>\n",
       "  <tbody>\n",
       "    <tr>\n",
       "      <th>bath</th>\n",
       "      <td>1.000000</td>\n",
       "      <td>0.221810</td>\n",
       "      <td>0.580429</td>\n",
       "      <td>0.675924</td>\n",
       "      <td>0.523363</td>\n",
       "    </tr>\n",
       "    <tr>\n",
       "      <th>balcony</th>\n",
       "      <td>0.221810</td>\n",
       "      <td>1.000000</td>\n",
       "      <td>0.165179</td>\n",
       "      <td>0.330570</td>\n",
       "      <td>0.228849</td>\n",
       "    </tr>\n",
       "    <tr>\n",
       "      <th>price</th>\n",
       "      <td>0.580429</td>\n",
       "      <td>0.165179</td>\n",
       "      <td>1.000000</td>\n",
       "      <td>0.322681</td>\n",
       "      <td>0.722553</td>\n",
       "    </tr>\n",
       "    <tr>\n",
       "      <th>rooms</th>\n",
       "      <td>0.675924</td>\n",
       "      <td>0.330570</td>\n",
       "      <td>0.322681</td>\n",
       "      <td>1.000000</td>\n",
       "      <td>0.413983</td>\n",
       "    </tr>\n",
       "    <tr>\n",
       "      <th>area</th>\n",
       "      <td>0.523363</td>\n",
       "      <td>0.228849</td>\n",
       "      <td>0.722553</td>\n",
       "      <td>0.413983</td>\n",
       "      <td>1.000000</td>\n",
       "    </tr>\n",
       "  </tbody>\n",
       "</table>\n",
       "</div>"
      ],
      "text/plain": [
       "             bath   balcony     price     rooms      area\n",
       "bath     1.000000  0.221810  0.580429  0.675924  0.523363\n",
       "balcony  0.221810  1.000000  0.165179  0.330570  0.228849\n",
       "price    0.580429  0.165179  1.000000  0.322681  0.722553\n",
       "rooms    0.675924  0.330570  0.322681  1.000000  0.413983\n",
       "area     0.523363  0.228849  0.722553  0.413983  1.000000"
      ]
     },
     "execution_count": 73,
     "metadata": {},
     "output_type": "execute_result"
    }
   ],
   "source": [
    "df312.corr()"
   ]
  },
  {
   "cell_type": "markdown",
   "metadata": {},
   "source": [
    "# Rooms Feature Analysis"
   ]
  },
  {
   "cell_type": "code",
   "execution_count": 74,
   "metadata": {},
   "outputs": [
    {
     "data": {
      "image/png": "[encoded data removed]",
      "text/plain": [
       "<Figure size 432x288 with 1 Axes>"
      ]
     },
     "metadata": {},
     "output_type": "display_data"
    }
   ],
   "source": [
    "plt.hist(df312['rooms'])\n",
    "plt.show()"
   ]
  },
  {
   "cell_type": "code",
   "execution_count": 75,
   "metadata": {},
   "outputs": [
    {
     "data": {
      "text/plain": [
       "<matplotlib.collections.PathCollection at 0x21f932119b0>"
      ]
     },
     "execution_count": 75,
     "metadata": {},
     "output_type": "execute_result"
    },
    {
     "data": {
      "image/png": "[encoded data removed]",
      "text/plain": [
       "<Figure size 1440x720 with 1 Axes>"
      ]
     },
     "metadata": {},
     "output_type": "display_data"
    }
   ],
   "source": [
    "plt.figure(figsize=(20,10))\n",
    "plt.scatter(df312['rooms'],df312['price'])"
   ]
  },
  {
   "cell_type": "code",
   "execution_count": 76,
   "metadata": {},
   "outputs": [
    {
     "data": {
      "text/plain": [
       "(12961, 8)"
      ]
     },
     "execution_count": 76,
     "metadata": {},
     "output_type": "execute_result"
    }
   ],
   "source": [
    "df312.shape"
   ]
  },
  {
   "cell_type": "code",
   "execution_count": 77,
   "metadata": {},
   "outputs": [
    {
     "data": {
      "text/plain": [
       "99.97685363783658"
      ]
     },
     "execution_count": 77,
     "metadata": {},
     "output_type": "execute_result"
    }
   ],
   "source": [
    "df312[df312['rooms']<=15].shape[0]/df312.shape[0]*100"
   ]
  },
  {
   "cell_type": "code",
   "execution_count": 78,
   "metadata": {},
   "outputs": [
    {
     "data": {
      "text/plain": [
       "(12958, 8)"
      ]
     },
     "execution_count": 78,
     "metadata": {},
     "output_type": "execute_result"
    }
   ],
   "source": [
    "df3123=df312[df312['rooms']<=15]\n",
    "df3123.shape"
   ]
  },
  {
   "cell_type": "code",
   "execution_count": 79,
   "metadata": {},
   "outputs": [
    {
     "data": {
      "text/plain": [
       "<matplotlib.collections.PathCollection at 0x21f93c36eb8>"
      ]
     },
     "execution_count": 79,
     "metadata": {},
     "output_type": "execute_result"
    },
    {
     "data": {
      "image/png": "[encoded data removed]",
      "text/plain": [
       "<Figure size 432x288 with 1 Axes>"
      ]
     },
     "metadata": {},
     "output_type": "display_data"
    }
   ],
   "source": [
    "plt.scatter(df3123['rooms'],df3123['price'])"
   ]
  },
  {
   "cell_type": "code",
   "execution_count": 80,
   "metadata": {},
   "outputs": [
    {
     "data": {
      "text/html": [
       "<div>\n",
       "<style scoped>\n",
       "    .dataframe tbody tr th:only-of-type {\n",
       "        vertical-align: middle;\n",
       "    }\n",
       "\n",
       "    .dataframe tbody tr th {\n",
       "        vertical-align: top;\n",
       "    }\n",
       "\n",
       "    .dataframe thead th {\n",
       "        text-align: right;\n",
       "    }\n",
       "</style>\n",
       "<table border=\"1\" class=\"dataframe\">\n",
       "  <thead>\n",
       "    <tr style=\"text-align: right;\">\n",
       "      <th></th>\n",
       "      <th>bath</th>\n",
       "      <th>balcony</th>\n",
       "      <th>price</th>\n",
       "      <th>rooms</th>\n",
       "      <th>area</th>\n",
       "    </tr>\n",
       "  </thead>\n",
       "  <tbody>\n",
       "    <tr>\n",
       "      <th>bath</th>\n",
       "      <td>1.000000</td>\n",
       "      <td>0.225731</td>\n",
       "      <td>0.583774</td>\n",
       "      <td>0.665354</td>\n",
       "      <td>0.530981</td>\n",
       "    </tr>\n",
       "    <tr>\n",
       "      <th>balcony</th>\n",
       "      <td>0.225731</td>\n",
       "      <td>1.000000</td>\n",
       "      <td>0.165188</td>\n",
       "      <td>0.338050</td>\n",
       "      <td>0.228834</td>\n",
       "    </tr>\n",
       "    <tr>\n",
       "      <th>price</th>\n",
       "      <td>0.583774</td>\n",
       "      <td>0.165188</td>\n",
       "      <td>1.000000</td>\n",
       "      <td>0.322039</td>\n",
       "      <td>0.723069</td>\n",
       "    </tr>\n",
       "    <tr>\n",
       "      <th>rooms</th>\n",
       "      <td>0.665354</td>\n",
       "      <td>0.338050</td>\n",
       "      <td>0.322039</td>\n",
       "      <td>1.000000</td>\n",
       "      <td>0.422278</td>\n",
       "    </tr>\n",
       "    <tr>\n",
       "      <th>area</th>\n",
       "      <td>0.530981</td>\n",
       "      <td>0.228834</td>\n",
       "      <td>0.723069</td>\n",
       "      <td>0.422278</td>\n",
       "      <td>1.000000</td>\n",
       "    </tr>\n",
       "  </tbody>\n",
       "</table>\n",
       "</div>"
      ],
      "text/plain": [
       "             bath   balcony     price     rooms      area\n",
       "bath     1.000000  0.225731  0.583774  0.665354  0.530981\n",
       "balcony  0.225731  1.000000  0.165188  0.338050  0.228834\n",
       "price    0.583774  0.165188  1.000000  0.322039  0.723069\n",
       "rooms    0.665354  0.338050  0.322039  1.000000  0.422278\n",
       "area     0.530981  0.228834  0.723069  0.422278  1.000000"
      ]
     },
     "execution_count": 80,
     "metadata": {},
     "output_type": "execute_result"
    }
   ],
   "source": [
    "df3123.corr()"
   ]
  },
  {
   "cell_type": "markdown",
   "metadata": {},
   "source": [
    "# Balcony Feature Analysis"
   ]
  },
  {
   "cell_type": "code",
   "execution_count": 81,
   "metadata": {},
   "outputs": [
    {
     "data": {
      "text/plain": [
       "(array([1003.,    0.,    0., 4797.,    0.,    0., 5542.,    0.,    0.,\n",
       "        1616.]),\n",
       " array([0. , 0.3, 0.6, 0.9, 1.2, 1.5, 1.8, 2.1, 2.4, 2.7, 3. ]),\n",
       " <BarContainer object of 10 artists>)"
      ]
     },
     "execution_count": 81,
     "metadata": {},
     "output_type": "execute_result"
    },
    {
     "data": {
      "image/png": "[encoded data removed]",
      "text/plain": [
       "<Figure size 432x288 with 1 Axes>"
      ]
     },
     "metadata": {},
     "output_type": "display_data"
    }
   ],
   "source": [
    "plt.hist(df3123['balcony'])"
   ]
  },
  {
   "cell_type": "code",
   "execution_count": 82,
   "metadata": {},
   "outputs": [
    {
     "data": {
      "text/plain": [
       "<matplotlib.collections.PathCollection at 0x21f9334ea90>"
      ]
     },
     "execution_count": 82,
     "metadata": {},
     "output_type": "execute_result"
    },
    {
     "data": {
      "image/png": "[encoded data removed]",
      "text/plain": [
       "<Figure size 1440x720 with 1 Axes>"
      ]
     },
     "metadata": {},
     "output_type": "display_data"
    }
   ],
   "source": [
    "plt.figure(figsize=(20,10))\n",
    "plt.scatter(df3123['balcony'],df3123['price'])"
   ]
  },
  {
   "cell_type": "markdown",
   "metadata": {},
   "source": [
    "# Bath Feature Analysis"
   ]
  },
  {
   "cell_type": "code",
   "execution_count": 83,
   "metadata": {},
   "outputs": [
    {
     "data": {
      "text/plain": [
       "(313, 8)"
      ]
     },
     "execution_count": 83,
     "metadata": {},
     "output_type": "execute_result"
    }
   ],
   "source": [
    "df3123[df3123['bath']>df3123['rooms']].shape"
   ]
  },
  {
   "cell_type": "code",
   "execution_count": 84,
   "metadata": {},
   "outputs": [
    {
     "data": {
      "text/html": [
       "<div>\n",
       "<style scoped>\n",
       "    .dataframe tbody tr th:only-of-type {\n",
       "        vertical-align: middle;\n",
       "    }\n",
       "\n",
       "    .dataframe tbody tr th {\n",
       "        vertical-align: top;\n",
       "    }\n",
       "\n",
       "    .dataframe thead th {\n",
       "        text-align: right;\n",
       "    }\n",
       "</style>\n",
       "<table border=\"1\" class=\"dataframe\">\n",
       "  <thead>\n",
       "    <tr style=\"text-align: right;\">\n",
       "      <th></th>\n",
       "      <th>availability</th>\n",
       "      <th>location</th>\n",
       "      <th>bath</th>\n",
       "      <th>balcony</th>\n",
       "      <th>price</th>\n",
       "      <th>rooms</th>\n",
       "      <th>area</th>\n",
       "      <th>area_type_Carpet  Area</th>\n",
       "      <th>area_type_Plot  Area</th>\n",
       "      <th>area_type_Super built-up  Area</th>\n",
       "    </tr>\n",
       "  </thead>\n",
       "  <tbody>\n",
       "    <tr>\n",
       "      <th>0</th>\n",
       "      <td>19-Dec</td>\n",
       "      <td>Electronic City Phase II</td>\n",
       "      <td>2</td>\n",
       "      <td>1</td>\n",
       "      <td>39.07</td>\n",
       "      <td>4</td>\n",
       "      <td>1056</td>\n",
       "      <td>0</td>\n",
       "      <td>0</td>\n",
       "      <td>1</td>\n",
       "    </tr>\n",
       "    <tr>\n",
       "      <th>1</th>\n",
       "      <td>Ready To Move</td>\n",
       "      <td>Chikka Tirupathi</td>\n",
       "      <td>5</td>\n",
       "      <td>3</td>\n",
       "      <td>120.00</td>\n",
       "      <td>4</td>\n",
       "      <td>2600</td>\n",
       "      <td>0</td>\n",
       "      <td>1</td>\n",
       "      <td>0</td>\n",
       "    </tr>\n",
       "    <tr>\n",
       "      <th>2</th>\n",
       "      <td>Ready To Move</td>\n",
       "      <td>Uttarahalli</td>\n",
       "      <td>2</td>\n",
       "      <td>3</td>\n",
       "      <td>62.00</td>\n",
       "      <td>5</td>\n",
       "      <td>1440</td>\n",
       "      <td>0</td>\n",
       "      <td>0</td>\n",
       "      <td>0</td>\n",
       "    </tr>\n",
       "    <tr>\n",
       "      <th>3</th>\n",
       "      <td>Ready To Move</td>\n",
       "      <td>Lingadheeranahalli</td>\n",
       "      <td>3</td>\n",
       "      <td>1</td>\n",
       "      <td>95.00</td>\n",
       "      <td>5</td>\n",
       "      <td>1521</td>\n",
       "      <td>0</td>\n",
       "      <td>0</td>\n",
       "      <td>1</td>\n",
       "    </tr>\n",
       "    <tr>\n",
       "      <th>4</th>\n",
       "      <td>Ready To Move</td>\n",
       "      <td>Kothanur</td>\n",
       "      <td>2</td>\n",
       "      <td>1</td>\n",
       "      <td>51.00</td>\n",
       "      <td>4</td>\n",
       "      <td>1200</td>\n",
       "      <td>0</td>\n",
       "      <td>0</td>\n",
       "      <td>1</td>\n",
       "    </tr>\n",
       "    <tr>\n",
       "      <th>...</th>\n",
       "      <td>...</td>\n",
       "      <td>...</td>\n",
       "      <td>...</td>\n",
       "      <td>...</td>\n",
       "      <td>...</td>\n",
       "      <td>...</td>\n",
       "      <td>...</td>\n",
       "      <td>...</td>\n",
       "      <td>...</td>\n",
       "      <td>...</td>\n",
       "    </tr>\n",
       "    <tr>\n",
       "      <th>13315</th>\n",
       "      <td>Ready To Move</td>\n",
       "      <td>Whitefield</td>\n",
       "      <td>4</td>\n",
       "      <td>0</td>\n",
       "      <td>231.00</td>\n",
       "      <td>5</td>\n",
       "      <td>3453</td>\n",
       "      <td>0</td>\n",
       "      <td>0</td>\n",
       "      <td>0</td>\n",
       "    </tr>\n",
       "    <tr>\n",
       "      <th>13316</th>\n",
       "      <td>Ready To Move</td>\n",
       "      <td>Richards Town</td>\n",
       "      <td>5</td>\n",
       "      <td>2</td>\n",
       "      <td>400.00</td>\n",
       "      <td>6</td>\n",
       "      <td>3600</td>\n",
       "      <td>0</td>\n",
       "      <td>0</td>\n",
       "      <td>1</td>\n",
       "    </tr>\n",
       "    <tr>\n",
       "      <th>13317</th>\n",
       "      <td>Ready To Move</td>\n",
       "      <td>Raja Rajeshwari Nagar</td>\n",
       "      <td>2</td>\n",
       "      <td>1</td>\n",
       "      <td>60.00</td>\n",
       "      <td>4</td>\n",
       "      <td>1141</td>\n",
       "      <td>0</td>\n",
       "      <td>0</td>\n",
       "      <td>0</td>\n",
       "    </tr>\n",
       "    <tr>\n",
       "      <th>13318</th>\n",
       "      <td>18-Jun</td>\n",
       "      <td>Padmanabhanagar</td>\n",
       "      <td>4</td>\n",
       "      <td>1</td>\n",
       "      <td>488.00</td>\n",
       "      <td>6</td>\n",
       "      <td>4689</td>\n",
       "      <td>0</td>\n",
       "      <td>0</td>\n",
       "      <td>1</td>\n",
       "    </tr>\n",
       "    <tr>\n",
       "      <th>13319</th>\n",
       "      <td>Ready To Move</td>\n",
       "      <td>Doddathoguru</td>\n",
       "      <td>1</td>\n",
       "      <td>1</td>\n",
       "      <td>17.00</td>\n",
       "      <td>3</td>\n",
       "      <td>550</td>\n",
       "      <td>0</td>\n",
       "      <td>0</td>\n",
       "      <td>1</td>\n",
       "    </tr>\n",
       "  </tbody>\n",
       "</table>\n",
       "<p>12958 rows × 10 columns</p>\n",
       "</div>"
      ],
      "text/plain": [
       "        availability                  location  bath  balcony   price  rooms  \\\n",
       "0             19-Dec  Electronic City Phase II     2        1   39.07      4   \n",
       "1      Ready To Move          Chikka Tirupathi     5        3  120.00      4   \n",
       "2      Ready To Move               Uttarahalli     2        3   62.00      5   \n",
       "3      Ready To Move        Lingadheeranahalli     3        1   95.00      5   \n",
       "4      Ready To Move                  Kothanur     2        1   51.00      4   \n",
       "...              ...                       ...   ...      ...     ...    ...   \n",
       "13315  Ready To Move                Whitefield     4        0  231.00      5   \n",
       "13316  Ready To Move             Richards Town     5        2  400.00      6   \n",
       "13317  Ready To Move     Raja Rajeshwari Nagar     2        1   60.00      4   \n",
       "13318         18-Jun           Padmanabhanagar     4        1  488.00      6   \n",
       "13319  Ready To Move              Doddathoguru     1        1   17.00      3   \n",
       "\n",
       "       area  area_type_Carpet  Area  area_type_Plot  Area  \\\n",
       "0      1056                       0                     0   \n",
       "1      2600                       0                     1   \n",
       "2      1440                       0                     0   \n",
       "3      1521                       0                     0   \n",
       "4      1200                       0                     0   \n",
       "...     ...                     ...                   ...   \n",
       "13315  3453                       0                     0   \n",
       "13316  3600                       0                     0   \n",
       "13317  1141                       0                     0   \n",
       "13318  4689                       0                     0   \n",
       "13319   550                       0                     0   \n",
       "\n",
       "       area_type_Super built-up  Area  \n",
       "0                                   1  \n",
       "1                                   0  \n",
       "2                                   0  \n",
       "3                                   1  \n",
       "4                                   1  \n",
       "...                               ...  \n",
       "13315                               0  \n",
       "13316                               1  \n",
       "13317                               0  \n",
       "13318                               1  \n",
       "13319                               1  \n",
       "\n",
       "[12958 rows x 10 columns]"
      ]
     },
     "execution_count": 84,
     "metadata": {},
     "output_type": "execute_result"
    }
   ],
   "source": [
    "df4=pd.get_dummies(df3123,drop_first=True,columns=['area_type'])\n",
    "df4"
   ]
  },
  {
   "cell_type": "code",
   "execution_count": 85,
   "metadata": {},
   "outputs": [
    {
     "data": {
      "text/plain": [
       "array(['Super built-up  Area', 'Plot  Area', 'Built-up  Area',\n",
       "       'Carpet  Area'], dtype=object)"
      ]
     },
     "execution_count": 85,
     "metadata": {},
     "output_type": "execute_result"
    }
   ],
   "source": [
    "df3123['area_type'].unique()"
   ]
  },
  {
   "cell_type": "code",
   "execution_count": 86,
   "metadata": {},
   "outputs": [
    {
     "data": {
      "text/plain": [
       "Super built-up  Area    8631\n",
       "Built-up  Area          2375\n",
       "Plot  Area              1875\n",
       "Carpet  Area              77\n",
       "Name: area_type, dtype: int64"
      ]
     },
     "execution_count": 86,
     "metadata": {},
     "output_type": "execute_result"
    }
   ],
   "source": [
    "df3123['area_type'].value_counts()"
   ]
  },
  {
   "cell_type": "code",
   "execution_count": 87,
   "metadata": {},
   "outputs": [
    {
     "data": {
      "text/plain": [
       "array(['19-Dec', 'Ready To Move', '18-May', '18-Feb', '18-Nov', '20-Dec',\n",
       "       '17-Oct', '21-Dec', '20-Sep', '18-Mar', '20-Feb', '18-Apr',\n",
       "       '20-Aug', '18-Oct', '19-Mar', '17-Sep', '18-Dec', '17-Aug',\n",
       "       '19-Apr', '18-Jun', '22-Dec', '22-Jan', '18-Aug', '19-Jan',\n",
       "       '17-Jul', '18-Jul', '21-Jun', '20-May', '19-Aug', '18-Sep',\n",
       "       '17-May', '17-Jun', '21-May', '18-Jan', '20-Mar', '17-Dec',\n",
       "       '16-Mar', '19-Jun', '22-Jun', '19-Jul', '21-Feb',\n",
       "       'Immediate Possession', '19-May', '17-Nov', '20-Oct', '20-Jun',\n",
       "       '19-Feb', '21-Oct', '21-Jan', '17-Mar', '19-Sep', '17-Apr',\n",
       "       '19-Oct', '21-Jul', '21-Nov', '21-Mar', '16-Dec', '22-Mar',\n",
       "       '20-Jan', '21-Sep', '21-Aug', '22-May', '14-Nov', '19-Nov',\n",
       "       '15-Nov', '16-Jul', '15-Jun', '17-Feb', '20-Nov', '20-Jul',\n",
       "       '16-Sep', '15-Oct', '15-Dec', '16-Oct', '22-Nov', '15-Aug',\n",
       "       '17-Jan', '16-Nov', '20-Apr', '16-Jan', '14-Jul'], dtype=object)"
      ]
     },
     "execution_count": 87,
     "metadata": {},
     "output_type": "execute_result"
    }
   ],
   "source": [
    "df3123['availability'].unique()"
   ]
  },
  {
   "cell_type": "code",
   "execution_count": 88,
   "metadata": {},
   "outputs": [
    {
     "data": {
      "text/plain": [
       "Ready To Move    10301\n",
       "18-Dec             294\n",
       "18-May             289\n",
       "18-Apr             263\n",
       "18-Aug             198\n",
       "                 ...  \n",
       "15-Aug               1\n",
       "15-Jun               1\n",
       "14-Jul               1\n",
       "16-Oct               1\n",
       "16-Jul               1\n",
       "Name: availability, Length: 81, dtype: int64"
      ]
     },
     "execution_count": 88,
     "metadata": {},
     "output_type": "execute_result"
    }
   ],
   "source": [
    "df3123['availability'].value_counts()"
   ]
  },
  {
   "cell_type": "code",
   "execution_count": 89,
   "metadata": {},
   "outputs": [],
   "source": [
    "df41=df4.copy()"
   ]
  },
  {
   "cell_type": "code",
   "execution_count": 90,
   "metadata": {},
   "outputs": [
    {
     "data": {
      "text/html": [
       "<div>\n",
       "<style scoped>\n",
       "    .dataframe tbody tr th:only-of-type {\n",
       "        vertical-align: middle;\n",
       "    }\n",
       "\n",
       "    .dataframe tbody tr th {\n",
       "        vertical-align: top;\n",
       "    }\n",
       "\n",
       "    .dataframe thead th {\n",
       "        text-align: right;\n",
       "    }\n",
       "</style>\n",
       "<table border=\"1\" class=\"dataframe\">\n",
       "  <thead>\n",
       "    <tr style=\"text-align: right;\">\n",
       "      <th></th>\n",
       "      <th>bath</th>\n",
       "      <th>balcony</th>\n",
       "      <th>price</th>\n",
       "      <th>rooms</th>\n",
       "      <th>area</th>\n",
       "      <th>area_type_Carpet  Area</th>\n",
       "      <th>area_type_Plot  Area</th>\n",
       "      <th>area_type_Super built-up  Area</th>\n",
       "    </tr>\n",
       "  </thead>\n",
       "  <tbody>\n",
       "    <tr>\n",
       "      <th>bath</th>\n",
       "      <td>1.000000</td>\n",
       "      <td>0.225731</td>\n",
       "      <td>0.583774</td>\n",
       "      <td>0.665354</td>\n",
       "      <td>0.530981</td>\n",
       "      <td>-0.010889</td>\n",
       "      <td>0.389775</td>\n",
       "      <td>-0.282694</td>\n",
       "    </tr>\n",
       "    <tr>\n",
       "      <th>balcony</th>\n",
       "      <td>0.225731</td>\n",
       "      <td>1.000000</td>\n",
       "      <td>0.165188</td>\n",
       "      <td>0.338050</td>\n",
       "      <td>0.228834</td>\n",
       "      <td>-0.008979</td>\n",
       "      <td>-0.090037</td>\n",
       "      <td>0.117818</td>\n",
       "    </tr>\n",
       "    <tr>\n",
       "      <th>price</th>\n",
       "      <td>0.583774</td>\n",
       "      <td>0.165188</td>\n",
       "      <td>1.000000</td>\n",
       "      <td>0.322039</td>\n",
       "      <td>0.723069</td>\n",
       "      <td>-0.008616</td>\n",
       "      <td>0.320365</td>\n",
       "      <td>-0.232043</td>\n",
       "    </tr>\n",
       "    <tr>\n",
       "      <th>rooms</th>\n",
       "      <td>0.665354</td>\n",
       "      <td>0.338050</td>\n",
       "      <td>0.322039</td>\n",
       "      <td>1.000000</td>\n",
       "      <td>0.422278</td>\n",
       "      <td>0.009001</td>\n",
       "      <td>-0.156025</td>\n",
       "      <td>0.129853</td>\n",
       "    </tr>\n",
       "    <tr>\n",
       "      <th>area</th>\n",
       "      <td>0.530981</td>\n",
       "      <td>0.228834</td>\n",
       "      <td>0.723069</td>\n",
       "      <td>0.422278</td>\n",
       "      <td>1.000000</td>\n",
       "      <td>-0.011230</td>\n",
       "      <td>0.033139</td>\n",
       "      <td>-0.073929</td>\n",
       "    </tr>\n",
       "    <tr>\n",
       "      <th>area_type_Carpet  Area</th>\n",
       "      <td>-0.010889</td>\n",
       "      <td>-0.008979</td>\n",
       "      <td>-0.008616</td>\n",
       "      <td>0.009001</td>\n",
       "      <td>-0.011230</td>\n",
       "      <td>1.000000</td>\n",
       "      <td>-0.031801</td>\n",
       "      <td>-0.109196</td>\n",
       "    </tr>\n",
       "    <tr>\n",
       "      <th>area_type_Plot  Area</th>\n",
       "      <td>0.389775</td>\n",
       "      <td>-0.090037</td>\n",
       "      <td>0.320365</td>\n",
       "      <td>-0.156025</td>\n",
       "      <td>0.033139</td>\n",
       "      <td>-0.031801</td>\n",
       "      <td>1.000000</td>\n",
       "      <td>-0.580910</td>\n",
       "    </tr>\n",
       "    <tr>\n",
       "      <th>area_type_Super built-up  Area</th>\n",
       "      <td>-0.282694</td>\n",
       "      <td>0.117818</td>\n",
       "      <td>-0.232043</td>\n",
       "      <td>0.129853</td>\n",
       "      <td>-0.073929</td>\n",
       "      <td>-0.109196</td>\n",
       "      <td>-0.580910</td>\n",
       "      <td>1.000000</td>\n",
       "    </tr>\n",
       "  </tbody>\n",
       "</table>\n",
       "</div>"
      ],
      "text/plain": [
       "                                    bath   balcony     price     rooms  \\\n",
       "bath                            1.000000  0.225731  0.583774  0.665354   \n",
       "balcony                         0.225731  1.000000  0.165188  0.338050   \n",
       "price                           0.583774  0.165188  1.000000  0.322039   \n",
       "rooms                           0.665354  0.338050  0.322039  1.000000   \n",
       "area                            0.530981  0.228834  0.723069  0.422278   \n",
       "area_type_Carpet  Area         -0.010889 -0.008979 -0.008616  0.009001   \n",
       "area_type_Plot  Area            0.389775 -0.090037  0.320365 -0.156025   \n",
       "area_type_Super built-up  Area -0.282694  0.117818 -0.232043  0.129853   \n",
       "\n",
       "                                    area  area_type_Carpet  Area  \\\n",
       "bath                            0.530981               -0.010889   \n",
       "balcony                         0.228834               -0.008979   \n",
       "price                           0.723069               -0.008616   \n",
       "rooms                           0.422278                0.009001   \n",
       "area                            1.000000               -0.011230   \n",
       "area_type_Carpet  Area         -0.011230                1.000000   \n",
       "area_type_Plot  Area            0.033139               -0.031801   \n",
       "area_type_Super built-up  Area -0.073929               -0.109196   \n",
       "\n",
       "                                area_type_Plot  Area  \\\n",
       "bath                                        0.389775   \n",
       "balcony                                    -0.090037   \n",
       "price                                       0.320365   \n",
       "rooms                                      -0.156025   \n",
       "area                                        0.033139   \n",
       "area_type_Carpet  Area                     -0.031801   \n",
       "area_type_Plot  Area                        1.000000   \n",
       "area_type_Super built-up  Area             -0.580910   \n",
       "\n",
       "                                area_type_Super built-up  Area  \n",
       "bath                                                 -0.282694  \n",
       "balcony                                               0.117818  \n",
       "price                                                -0.232043  \n",
       "rooms                                                 0.129853  \n",
       "area                                                 -0.073929  \n",
       "area_type_Carpet  Area                               -0.109196  \n",
       "area_type_Plot  Area                                 -0.580910  \n",
       "area_type_Super built-up  Area                        1.000000  "
      ]
     },
     "execution_count": 90,
     "metadata": {},
     "output_type": "execute_result"
    }
   ],
   "source": [
    "df41.corr()"
   ]
  },
  {
   "cell_type": "code",
   "execution_count": 91,
   "metadata": {},
   "outputs": [],
   "source": [
    "df41['availability_ready_to_move']=np.where(df4['availability']==(\"Ready To Move\" or \"Immediate Possession\"),1,0)"
   ]
  },
  {
   "cell_type": "code",
   "execution_count": 92,
   "metadata": {},
   "outputs": [
    {
     "data": {
      "text/html": [
       "<div>\n",
       "<style scoped>\n",
       "    .dataframe tbody tr th:only-of-type {\n",
       "        vertical-align: middle;\n",
       "    }\n",
       "\n",
       "    .dataframe tbody tr th {\n",
       "        vertical-align: top;\n",
       "    }\n",
       "\n",
       "    .dataframe thead th {\n",
       "        text-align: right;\n",
       "    }\n",
       "</style>\n",
       "<table border=\"1\" class=\"dataframe\">\n",
       "  <thead>\n",
       "    <tr style=\"text-align: right;\">\n",
       "      <th></th>\n",
       "      <th>availability</th>\n",
       "      <th>location</th>\n",
       "      <th>bath</th>\n",
       "      <th>balcony</th>\n",
       "      <th>price</th>\n",
       "      <th>rooms</th>\n",
       "      <th>area</th>\n",
       "      <th>area_type_Carpet  Area</th>\n",
       "      <th>area_type_Plot  Area</th>\n",
       "      <th>area_type_Super built-up  Area</th>\n",
       "      <th>availability_ready_to_move</th>\n",
       "    </tr>\n",
       "  </thead>\n",
       "  <tbody>\n",
       "    <tr>\n",
       "      <th>0</th>\n",
       "      <td>19-Dec</td>\n",
       "      <td>Electronic City Phase II</td>\n",
       "      <td>2</td>\n",
       "      <td>1</td>\n",
       "      <td>39.07</td>\n",
       "      <td>4</td>\n",
       "      <td>1056</td>\n",
       "      <td>0</td>\n",
       "      <td>0</td>\n",
       "      <td>1</td>\n",
       "      <td>0</td>\n",
       "    </tr>\n",
       "    <tr>\n",
       "      <th>1</th>\n",
       "      <td>Ready To Move</td>\n",
       "      <td>Chikka Tirupathi</td>\n",
       "      <td>5</td>\n",
       "      <td>3</td>\n",
       "      <td>120.00</td>\n",
       "      <td>4</td>\n",
       "      <td>2600</td>\n",
       "      <td>0</td>\n",
       "      <td>1</td>\n",
       "      <td>0</td>\n",
       "      <td>1</td>\n",
       "    </tr>\n",
       "    <tr>\n",
       "      <th>2</th>\n",
       "      <td>Ready To Move</td>\n",
       "      <td>Uttarahalli</td>\n",
       "      <td>2</td>\n",
       "      <td>3</td>\n",
       "      <td>62.00</td>\n",
       "      <td>5</td>\n",
       "      <td>1440</td>\n",
       "      <td>0</td>\n",
       "      <td>0</td>\n",
       "      <td>0</td>\n",
       "      <td>1</td>\n",
       "    </tr>\n",
       "    <tr>\n",
       "      <th>3</th>\n",
       "      <td>Ready To Move</td>\n",
       "      <td>Lingadheeranahalli</td>\n",
       "      <td>3</td>\n",
       "      <td>1</td>\n",
       "      <td>95.00</td>\n",
       "      <td>5</td>\n",
       "      <td>1521</td>\n",
       "      <td>0</td>\n",
       "      <td>0</td>\n",
       "      <td>1</td>\n",
       "      <td>1</td>\n",
       "    </tr>\n",
       "    <tr>\n",
       "      <th>4</th>\n",
       "      <td>Ready To Move</td>\n",
       "      <td>Kothanur</td>\n",
       "      <td>2</td>\n",
       "      <td>1</td>\n",
       "      <td>51.00</td>\n",
       "      <td>4</td>\n",
       "      <td>1200</td>\n",
       "      <td>0</td>\n",
       "      <td>0</td>\n",
       "      <td>1</td>\n",
       "      <td>1</td>\n",
       "    </tr>\n",
       "    <tr>\n",
       "      <th>...</th>\n",
       "      <td>...</td>\n",
       "      <td>...</td>\n",
       "      <td>...</td>\n",
       "      <td>...</td>\n",
       "      <td>...</td>\n",
       "      <td>...</td>\n",
       "      <td>...</td>\n",
       "      <td>...</td>\n",
       "      <td>...</td>\n",
       "      <td>...</td>\n",
       "      <td>...</td>\n",
       "    </tr>\n",
       "    <tr>\n",
       "      <th>13315</th>\n",
       "      <td>Ready To Move</td>\n",
       "      <td>Whitefield</td>\n",
       "      <td>4</td>\n",
       "      <td>0</td>\n",
       "      <td>231.00</td>\n",
       "      <td>5</td>\n",
       "      <td>3453</td>\n",
       "      <td>0</td>\n",
       "      <td>0</td>\n",
       "      <td>0</td>\n",
       "      <td>1</td>\n",
       "    </tr>\n",
       "    <tr>\n",
       "      <th>13316</th>\n",
       "      <td>Ready To Move</td>\n",
       "      <td>Richards Town</td>\n",
       "      <td>5</td>\n",
       "      <td>2</td>\n",
       "      <td>400.00</td>\n",
       "      <td>6</td>\n",
       "      <td>3600</td>\n",
       "      <td>0</td>\n",
       "      <td>0</td>\n",
       "      <td>1</td>\n",
       "      <td>1</td>\n",
       "    </tr>\n",
       "    <tr>\n",
       "      <th>13317</th>\n",
       "      <td>Ready To Move</td>\n",
       "      <td>Raja Rajeshwari Nagar</td>\n",
       "      <td>2</td>\n",
       "      <td>1</td>\n",
       "      <td>60.00</td>\n",
       "      <td>4</td>\n",
       "      <td>1141</td>\n",
       "      <td>0</td>\n",
       "      <td>0</td>\n",
       "      <td>0</td>\n",
       "      <td>1</td>\n",
       "    </tr>\n",
       "    <tr>\n",
       "      <th>13318</th>\n",
       "      <td>18-Jun</td>\n",
       "      <td>Padmanabhanagar</td>\n",
       "      <td>4</td>\n",
       "      <td>1</td>\n",
       "      <td>488.00</td>\n",
       "      <td>6</td>\n",
       "      <td>4689</td>\n",
       "      <td>0</td>\n",
       "      <td>0</td>\n",
       "      <td>1</td>\n",
       "      <td>0</td>\n",
       "    </tr>\n",
       "    <tr>\n",
       "      <th>13319</th>\n",
       "      <td>Ready To Move</td>\n",
       "      <td>Doddathoguru</td>\n",
       "      <td>1</td>\n",
       "      <td>1</td>\n",
       "      <td>17.00</td>\n",
       "      <td>3</td>\n",
       "      <td>550</td>\n",
       "      <td>0</td>\n",
       "      <td>0</td>\n",
       "      <td>1</td>\n",
       "      <td>1</td>\n",
       "    </tr>\n",
       "  </tbody>\n",
       "</table>\n",
       "<p>12958 rows × 11 columns</p>\n",
       "</div>"
      ],
      "text/plain": [
       "        availability                  location  bath  balcony   price  rooms  \\\n",
       "0             19-Dec  Electronic City Phase II     2        1   39.07      4   \n",
       "1      Ready To Move          Chikka Tirupathi     5        3  120.00      4   \n",
       "2      Ready To Move               Uttarahalli     2        3   62.00      5   \n",
       "3      Ready To Move        Lingadheeranahalli     3        1   95.00      5   \n",
       "4      Ready To Move                  Kothanur     2        1   51.00      4   \n",
       "...              ...                       ...   ...      ...     ...    ...   \n",
       "13315  Ready To Move                Whitefield     4        0  231.00      5   \n",
       "13316  Ready To Move             Richards Town     5        2  400.00      6   \n",
       "13317  Ready To Move     Raja Rajeshwari Nagar     2        1   60.00      4   \n",
       "13318         18-Jun           Padmanabhanagar     4        1  488.00      6   \n",
       "13319  Ready To Move              Doddathoguru     1        1   17.00      3   \n",
       "\n",
       "       area  area_type_Carpet  Area  area_type_Plot  Area  \\\n",
       "0      1056                       0                     0   \n",
       "1      2600                       0                     1   \n",
       "2      1440                       0                     0   \n",
       "3      1521                       0                     0   \n",
       "4      1200                       0                     0   \n",
       "...     ...                     ...                   ...   \n",
       "13315  3453                       0                     0   \n",
       "13316  3600                       0                     0   \n",
       "13317  1141                       0                     0   \n",
       "13318  4689                       0                     0   \n",
       "13319   550                       0                     0   \n",
       "\n",
       "       area_type_Super built-up  Area  availability_ready_to_move  \n",
       "0                                   1                           0  \n",
       "1                                   0                           1  \n",
       "2                                   0                           1  \n",
       "3                                   1                           1  \n",
       "4                                   1                           1  \n",
       "...                               ...                         ...  \n",
       "13315                               0                           1  \n",
       "13316                               1                           1  \n",
       "13317                               0                           1  \n",
       "13318                               1                           0  \n",
       "13319                               1                           1  \n",
       "\n",
       "[12958 rows x 11 columns]"
      ]
     },
     "execution_count": 92,
     "metadata": {},
     "output_type": "execute_result"
    }
   ],
   "source": [
    "df41"
   ]
  },
  {
   "cell_type": "code",
   "execution_count": 93,
   "metadata": {},
   "outputs": [],
   "source": [
    "df5=df41.drop(['availability'],axis=1)"
   ]
  },
  {
   "cell_type": "code",
   "execution_count": 94,
   "metadata": {},
   "outputs": [
    {
     "data": {
      "text/plain": [
       "1     472\n",
       "2     173\n",
       "3     129\n",
       "4      77\n",
       "5      56\n",
       "6      40\n",
       "7      35\n",
       "8      30\n",
       "9      19\n",
       "12     17\n",
       "13     16\n",
       "16     12\n",
       "11     12\n",
       "10     11\n",
       "14     10\n",
       "17      8\n",
       "22      7\n",
       "24      7\n",
       "43      6\n",
       "26      6\n",
       "Name: location, dtype: int64"
      ]
     },
     "execution_count": 94,
     "metadata": {},
     "output_type": "execute_result"
    }
   ],
   "source": [
    "df5_location=df5['location'].value_counts()\n",
    "df5_location.value_counts()[:20]"
   ]
  },
  {
   "cell_type": "code",
   "execution_count": 95,
   "metadata": {},
   "outputs": [
    {
     "data": {
      "text/plain": [
       "Index(['Whitefield', 'Sarjapur  Road', 'Electronic City', 'Kanakpura Road',\n",
       "       'Thanisandra', 'Yelahanka', 'Uttarahalli', 'Marathahalli', 'Hebbal',\n",
       "       'Raja Rajeshwari Nagar', 'Hennur Road', '7th Phase JP Nagar',\n",
       "       'Bannerghatta Road', 'Haralur Road', 'Electronic City Phase II',\n",
       "       'Chandapura', 'Bellandur', 'Rajaji Nagar', 'KR Puram', 'Hoodi',\n",
       "       'Electronics City Phase 1', 'Yeshwanthpur', 'Begur Road', 'Sarjapur',\n",
       "       'Kasavanhalli', 'Banashankari', 'Harlur', 'Hormavu', 'Ramamurthy Nagar',\n",
       "       'Kengeri', 'Old Madras Road', 'Varthur', 'JP Nagar', 'Koramangala',\n",
       "       'Hosa Road', 'Kothanur', 'Kaggadasapura', 'Nagarbhavi', 'Jakkur',\n",
       "       'Thigalarapalya', 'Akshaya Nagar', 'TC Palaya', '8th Phase JP Nagar',\n",
       "       'Rachenahalli', 'Hennur', 'Jigani', 'Budigere', 'HSR Layout',\n",
       "       'Jalahalli', 'Hulimavu', 'Panathur', 'Bisuvanahalli'],\n",
       "      dtype='object')"
      ]
     },
     "execution_count": 95,
     "metadata": {},
     "output_type": "execute_result"
    }
   ],
   "source": [
    "location_index=df5_location[df5_location>50].index\n",
    "location_index"
   ]
  },
  {
   "cell_type": "code",
   "execution_count": 96,
   "metadata": {},
   "outputs": [
    {
     "data": {
      "text/html": [
       "<div>\n",
       "<style scoped>\n",
       "    .dataframe tbody tr th:only-of-type {\n",
       "        vertical-align: middle;\n",
       "    }\n",
       "\n",
       "    .dataframe tbody tr th {\n",
       "        vertical-align: top;\n",
       "    }\n",
       "\n",
       "    .dataframe thead th {\n",
       "        text-align: right;\n",
       "    }\n",
       "</style>\n",
       "<table border=\"1\" class=\"dataframe\">\n",
       "  <thead>\n",
       "    <tr style=\"text-align: right;\">\n",
       "      <th></th>\n",
       "      <th>location</th>\n",
       "      <th>bath</th>\n",
       "      <th>balcony</th>\n",
       "      <th>price</th>\n",
       "      <th>rooms</th>\n",
       "      <th>area</th>\n",
       "      <th>area_type_Carpet  Area</th>\n",
       "      <th>area_type_Plot  Area</th>\n",
       "      <th>area_type_Super built-up  Area</th>\n",
       "      <th>availability_ready_to_move</th>\n",
       "      <th>...</th>\n",
       "      <th>location_8th Phase JP Nagar</th>\n",
       "      <th>location_Rachenahalli</th>\n",
       "      <th>location_Hennur</th>\n",
       "      <th>location_Jigani</th>\n",
       "      <th>location_Budigere</th>\n",
       "      <th>location_HSR Layout</th>\n",
       "      <th>location_Jalahalli</th>\n",
       "      <th>location_Hulimavu</th>\n",
       "      <th>location_Panathur</th>\n",
       "      <th>location_Bisuvanahalli</th>\n",
       "    </tr>\n",
       "  </thead>\n",
       "  <tbody>\n",
       "    <tr>\n",
       "      <th>0</th>\n",
       "      <td>Electronic City Phase II</td>\n",
       "      <td>2</td>\n",
       "      <td>1</td>\n",
       "      <td>39.07</td>\n",
       "      <td>4</td>\n",
       "      <td>1056</td>\n",
       "      <td>0</td>\n",
       "      <td>0</td>\n",
       "      <td>1</td>\n",
       "      <td>0</td>\n",
       "      <td>...</td>\n",
       "      <td>0</td>\n",
       "      <td>0</td>\n",
       "      <td>0</td>\n",
       "      <td>0</td>\n",
       "      <td>0</td>\n",
       "      <td>0</td>\n",
       "      <td>0</td>\n",
       "      <td>0</td>\n",
       "      <td>0</td>\n",
       "      <td>0</td>\n",
       "    </tr>\n",
       "    <tr>\n",
       "      <th>1</th>\n",
       "      <td>Chikka Tirupathi</td>\n",
       "      <td>5</td>\n",
       "      <td>3</td>\n",
       "      <td>120.00</td>\n",
       "      <td>4</td>\n",
       "      <td>2600</td>\n",
       "      <td>0</td>\n",
       "      <td>1</td>\n",
       "      <td>0</td>\n",
       "      <td>1</td>\n",
       "      <td>...</td>\n",
       "      <td>0</td>\n",
       "      <td>0</td>\n",
       "      <td>0</td>\n",
       "      <td>0</td>\n",
       "      <td>0</td>\n",
       "      <td>0</td>\n",
       "      <td>0</td>\n",
       "      <td>0</td>\n",
       "      <td>0</td>\n",
       "      <td>0</td>\n",
       "    </tr>\n",
       "    <tr>\n",
       "      <th>2</th>\n",
       "      <td>Uttarahalli</td>\n",
       "      <td>2</td>\n",
       "      <td>3</td>\n",
       "      <td>62.00</td>\n",
       "      <td>5</td>\n",
       "      <td>1440</td>\n",
       "      <td>0</td>\n",
       "      <td>0</td>\n",
       "      <td>0</td>\n",
       "      <td>1</td>\n",
       "      <td>...</td>\n",
       "      <td>0</td>\n",
       "      <td>0</td>\n",
       "      <td>0</td>\n",
       "      <td>0</td>\n",
       "      <td>0</td>\n",
       "      <td>0</td>\n",
       "      <td>0</td>\n",
       "      <td>0</td>\n",
       "      <td>0</td>\n",
       "      <td>0</td>\n",
       "    </tr>\n",
       "    <tr>\n",
       "      <th>3</th>\n",
       "      <td>Lingadheeranahalli</td>\n",
       "      <td>3</td>\n",
       "      <td>1</td>\n",
       "      <td>95.00</td>\n",
       "      <td>5</td>\n",
       "      <td>1521</td>\n",
       "      <td>0</td>\n",
       "      <td>0</td>\n",
       "      <td>1</td>\n",
       "      <td>1</td>\n",
       "      <td>...</td>\n",
       "      <td>0</td>\n",
       "      <td>0</td>\n",
       "      <td>0</td>\n",
       "      <td>0</td>\n",
       "      <td>0</td>\n",
       "      <td>0</td>\n",
       "      <td>0</td>\n",
       "      <td>0</td>\n",
       "      <td>0</td>\n",
       "      <td>0</td>\n",
       "    </tr>\n",
       "    <tr>\n",
       "      <th>4</th>\n",
       "      <td>Kothanur</td>\n",
       "      <td>2</td>\n",
       "      <td>1</td>\n",
       "      <td>51.00</td>\n",
       "      <td>4</td>\n",
       "      <td>1200</td>\n",
       "      <td>0</td>\n",
       "      <td>0</td>\n",
       "      <td>1</td>\n",
       "      <td>1</td>\n",
       "      <td>...</td>\n",
       "      <td>0</td>\n",
       "      <td>0</td>\n",
       "      <td>0</td>\n",
       "      <td>0</td>\n",
       "      <td>0</td>\n",
       "      <td>0</td>\n",
       "      <td>0</td>\n",
       "      <td>0</td>\n",
       "      <td>0</td>\n",
       "      <td>0</td>\n",
       "    </tr>\n",
       "  </tbody>\n",
       "</table>\n",
       "<p>5 rows × 62 columns</p>\n",
       "</div>"
      ],
      "text/plain": [
       "                   location  bath  balcony   price  rooms  area  \\\n",
       "0  Electronic City Phase II     2        1   39.07      4  1056   \n",
       "1          Chikka Tirupathi     5        3  120.00      4  2600   \n",
       "2               Uttarahalli     2        3   62.00      5  1440   \n",
       "3        Lingadheeranahalli     3        1   95.00      5  1521   \n",
       "4                  Kothanur     2        1   51.00      4  1200   \n",
       "\n",
       "   area_type_Carpet  Area  area_type_Plot  Area  \\\n",
       "0                       0                     0   \n",
       "1                       0                     1   \n",
       "2                       0                     0   \n",
       "3                       0                     0   \n",
       "4                       0                     0   \n",
       "\n",
       "   area_type_Super built-up  Area  availability_ready_to_move  ...  \\\n",
       "0                               1                           0  ...   \n",
       "1                               0                           1  ...   \n",
       "2                               0                           1  ...   \n",
       "3                               1                           1  ...   \n",
       "4                               1                           1  ...   \n",
       "\n",
       "   location_8th Phase JP Nagar  location_Rachenahalli  location_Hennur  \\\n",
       "0                            0                      0                0   \n",
       "1                            0                      0                0   \n",
       "2                            0                      0                0   \n",
       "3                            0                      0                0   \n",
       "4                            0                      0                0   \n",
       "\n",
       "   location_Jigani  location_Budigere  location_HSR Layout  \\\n",
       "0                0                  0                    0   \n",
       "1                0                  0                    0   \n",
       "2                0                  0                    0   \n",
       "3                0                  0                    0   \n",
       "4                0                  0                    0   \n",
       "\n",
       "   location_Jalahalli  location_Hulimavu  location_Panathur  \\\n",
       "0                   0                  0                  0   \n",
       "1                   0                  0                  0   \n",
       "2                   0                  0                  0   \n",
       "3                   0                  0                  0   \n",
       "4                   0                  0                  0   \n",
       "\n",
       "   location_Bisuvanahalli  \n",
       "0                       0  \n",
       "1                       0  \n",
       "2                       0  \n",
       "3                       0  \n",
       "4                       0  \n",
       "\n",
       "[5 rows x 62 columns]"
      ]
     },
     "execution_count": 96,
     "metadata": {},
     "output_type": "execute_result"
    }
   ],
   "source": [
    "df6=df5.copy()\n",
    "for item in location_index:\n",
    "    df6['location_'+item]=np.where(df6['location']==item,1,0)\n",
    "df6.head()"
   ]
  },
  {
   "cell_type": "code",
   "execution_count": 97,
   "metadata": {},
   "outputs": [
    {
     "data": {
      "text/html": [
       "<div>\n",
       "<style scoped>\n",
       "    .dataframe tbody tr th:only-of-type {\n",
       "        vertical-align: middle;\n",
       "    }\n",
       "\n",
       "    .dataframe tbody tr th {\n",
       "        vertical-align: top;\n",
       "    }\n",
       "\n",
       "    .dataframe thead th {\n",
       "        text-align: right;\n",
       "    }\n",
       "</style>\n",
       "<table border=\"1\" class=\"dataframe\">\n",
       "  <thead>\n",
       "    <tr style=\"text-align: right;\">\n",
       "      <th></th>\n",
       "      <th>bath</th>\n",
       "      <th>balcony</th>\n",
       "      <th>price</th>\n",
       "      <th>rooms</th>\n",
       "      <th>area</th>\n",
       "      <th>area_type_Carpet  Area</th>\n",
       "      <th>area_type_Plot  Area</th>\n",
       "      <th>area_type_Super built-up  Area</th>\n",
       "      <th>availability_ready_to_move</th>\n",
       "      <th>location_Whitefield</th>\n",
       "      <th>...</th>\n",
       "      <th>location_8th Phase JP Nagar</th>\n",
       "      <th>location_Rachenahalli</th>\n",
       "      <th>location_Hennur</th>\n",
       "      <th>location_Jigani</th>\n",
       "      <th>location_Budigere</th>\n",
       "      <th>location_HSR Layout</th>\n",
       "      <th>location_Jalahalli</th>\n",
       "      <th>location_Hulimavu</th>\n",
       "      <th>location_Panathur</th>\n",
       "      <th>location_Bisuvanahalli</th>\n",
       "    </tr>\n",
       "  </thead>\n",
       "  <tbody>\n",
       "    <tr>\n",
       "      <th>0</th>\n",
       "      <td>2</td>\n",
       "      <td>1</td>\n",
       "      <td>39.07</td>\n",
       "      <td>4</td>\n",
       "      <td>1056</td>\n",
       "      <td>0</td>\n",
       "      <td>0</td>\n",
       "      <td>1</td>\n",
       "      <td>0</td>\n",
       "      <td>0</td>\n",
       "      <td>...</td>\n",
       "      <td>0</td>\n",
       "      <td>0</td>\n",
       "      <td>0</td>\n",
       "      <td>0</td>\n",
       "      <td>0</td>\n",
       "      <td>0</td>\n",
       "      <td>0</td>\n",
       "      <td>0</td>\n",
       "      <td>0</td>\n",
       "      <td>0</td>\n",
       "    </tr>\n",
       "    <tr>\n",
       "      <th>1</th>\n",
       "      <td>5</td>\n",
       "      <td>3</td>\n",
       "      <td>120.00</td>\n",
       "      <td>4</td>\n",
       "      <td>2600</td>\n",
       "      <td>0</td>\n",
       "      <td>1</td>\n",
       "      <td>0</td>\n",
       "      <td>1</td>\n",
       "      <td>0</td>\n",
       "      <td>...</td>\n",
       "      <td>0</td>\n",
       "      <td>0</td>\n",
       "      <td>0</td>\n",
       "      <td>0</td>\n",
       "      <td>0</td>\n",
       "      <td>0</td>\n",
       "      <td>0</td>\n",
       "      <td>0</td>\n",
       "      <td>0</td>\n",
       "      <td>0</td>\n",
       "    </tr>\n",
       "    <tr>\n",
       "      <th>2</th>\n",
       "      <td>2</td>\n",
       "      <td>3</td>\n",
       "      <td>62.00</td>\n",
       "      <td>5</td>\n",
       "      <td>1440</td>\n",
       "      <td>0</td>\n",
       "      <td>0</td>\n",
       "      <td>0</td>\n",
       "      <td>1</td>\n",
       "      <td>0</td>\n",
       "      <td>...</td>\n",
       "      <td>0</td>\n",
       "      <td>0</td>\n",
       "      <td>0</td>\n",
       "      <td>0</td>\n",
       "      <td>0</td>\n",
       "      <td>0</td>\n",
       "      <td>0</td>\n",
       "      <td>0</td>\n",
       "      <td>0</td>\n",
       "      <td>0</td>\n",
       "    </tr>\n",
       "    <tr>\n",
       "      <th>3</th>\n",
       "      <td>3</td>\n",
       "      <td>1</td>\n",
       "      <td>95.00</td>\n",
       "      <td>5</td>\n",
       "      <td>1521</td>\n",
       "      <td>0</td>\n",
       "      <td>0</td>\n",
       "      <td>1</td>\n",
       "      <td>1</td>\n",
       "      <td>0</td>\n",
       "      <td>...</td>\n",
       "      <td>0</td>\n",
       "      <td>0</td>\n",
       "      <td>0</td>\n",
       "      <td>0</td>\n",
       "      <td>0</td>\n",
       "      <td>0</td>\n",
       "      <td>0</td>\n",
       "      <td>0</td>\n",
       "      <td>0</td>\n",
       "      <td>0</td>\n",
       "    </tr>\n",
       "    <tr>\n",
       "      <th>4</th>\n",
       "      <td>2</td>\n",
       "      <td>1</td>\n",
       "      <td>51.00</td>\n",
       "      <td>4</td>\n",
       "      <td>1200</td>\n",
       "      <td>0</td>\n",
       "      <td>0</td>\n",
       "      <td>1</td>\n",
       "      <td>1</td>\n",
       "      <td>0</td>\n",
       "      <td>...</td>\n",
       "      <td>0</td>\n",
       "      <td>0</td>\n",
       "      <td>0</td>\n",
       "      <td>0</td>\n",
       "      <td>0</td>\n",
       "      <td>0</td>\n",
       "      <td>0</td>\n",
       "      <td>0</td>\n",
       "      <td>0</td>\n",
       "      <td>0</td>\n",
       "    </tr>\n",
       "  </tbody>\n",
       "</table>\n",
       "<p>5 rows × 61 columns</p>\n",
       "</div>"
      ],
      "text/plain": [
       "   bath  balcony   price  rooms  area  area_type_Carpet  Area  \\\n",
       "0     2        1   39.07      4  1056                       0   \n",
       "1     5        3  120.00      4  2600                       0   \n",
       "2     2        3   62.00      5  1440                       0   \n",
       "3     3        1   95.00      5  1521                       0   \n",
       "4     2        1   51.00      4  1200                       0   \n",
       "\n",
       "   area_type_Plot  Area  area_type_Super built-up  Area  \\\n",
       "0                     0                               1   \n",
       "1                     1                               0   \n",
       "2                     0                               0   \n",
       "3                     0                               1   \n",
       "4                     0                               1   \n",
       "\n",
       "   availability_ready_to_move  location_Whitefield  ...  \\\n",
       "0                           0                    0  ...   \n",
       "1                           1                    0  ...   \n",
       "2                           1                    0  ...   \n",
       "3                           1                    0  ...   \n",
       "4                           1                    0  ...   \n",
       "\n",
       "   location_8th Phase JP Nagar  location_Rachenahalli  location_Hennur  \\\n",
       "0                            0                      0                0   \n",
       "1                            0                      0                0   \n",
       "2                            0                      0                0   \n",
       "3                            0                      0                0   \n",
       "4                            0                      0                0   \n",
       "\n",
       "   location_Jigani  location_Budigere  location_HSR Layout  \\\n",
       "0                0                  0                    0   \n",
       "1                0                  0                    0   \n",
       "2                0                  0                    0   \n",
       "3                0                  0                    0   \n",
       "4                0                  0                    0   \n",
       "\n",
       "   location_Jalahalli  location_Hulimavu  location_Panathur  \\\n",
       "0                   0                  0                  0   \n",
       "1                   0                  0                  0   \n",
       "2                   0                  0                  0   \n",
       "3                   0                  0                  0   \n",
       "4                   0                  0                  0   \n",
       "\n",
       "   location_Bisuvanahalli  \n",
       "0                       0  \n",
       "1                       0  \n",
       "2                       0  \n",
       "3                       0  \n",
       "4                       0  \n",
       "\n",
       "[5 rows x 61 columns]"
      ]
     },
     "execution_count": 97,
     "metadata": {},
     "output_type": "execute_result"
    }
   ],
   "source": [
    "df_final=df6.drop(['location'],axis=1)\n",
    "df_final.head()"
   ]
  },
  {
   "cell_type": "code",
   "execution_count": 98,
   "metadata": {},
   "outputs": [
    {
     "data": {
      "text/html": [
       "<div>\n",
       "<style scoped>\n",
       "    .dataframe tbody tr th:only-of-type {\n",
       "        vertical-align: middle;\n",
       "    }\n",
       "\n",
       "    .dataframe tbody tr th {\n",
       "        vertical-align: top;\n",
       "    }\n",
       "\n",
       "    .dataframe thead th {\n",
       "        text-align: right;\n",
       "    }\n",
       "</style>\n",
       "<table border=\"1\" class=\"dataframe\">\n",
       "  <thead>\n",
       "    <tr style=\"text-align: right;\">\n",
       "      <th></th>\n",
       "      <th>bath</th>\n",
       "      <th>balcony</th>\n",
       "      <th>price</th>\n",
       "      <th>rooms</th>\n",
       "      <th>area</th>\n",
       "      <th>area_type_Carpet  Area</th>\n",
       "      <th>area_type_Plot  Area</th>\n",
       "      <th>area_type_Super built-up  Area</th>\n",
       "      <th>availability_ready_to_move</th>\n",
       "      <th>location_Whitefield</th>\n",
       "      <th>...</th>\n",
       "      <th>location_8th Phase JP Nagar</th>\n",
       "      <th>location_Rachenahalli</th>\n",
       "      <th>location_Hennur</th>\n",
       "      <th>location_Jigani</th>\n",
       "      <th>location_Budigere</th>\n",
       "      <th>location_HSR Layout</th>\n",
       "      <th>location_Jalahalli</th>\n",
       "      <th>location_Hulimavu</th>\n",
       "      <th>location_Panathur</th>\n",
       "      <th>location_Bisuvanahalli</th>\n",
       "    </tr>\n",
       "  </thead>\n",
       "  <tbody>\n",
       "    <tr>\n",
       "      <th>bath</th>\n",
       "      <td>1.000000</td>\n",
       "      <td>0.225731</td>\n",
       "      <td>0.583774</td>\n",
       "      <td>0.665354</td>\n",
       "      <td>0.530981</td>\n",
       "      <td>-0.010889</td>\n",
       "      <td>0.389775</td>\n",
       "      <td>-0.282694</td>\n",
       "      <td>0.084243</td>\n",
       "      <td>0.000465</td>\n",
       "      <td>...</td>\n",
       "      <td>0.002432</td>\n",
       "      <td>-0.021014</td>\n",
       "      <td>-0.020582</td>\n",
       "      <td>0.017133</td>\n",
       "      <td>-0.015239</td>\n",
       "      <td>0.007035</td>\n",
       "      <td>-0.008252</td>\n",
       "      <td>-0.011250</td>\n",
       "      <td>-0.025853</td>\n",
       "      <td>-0.032918</td>\n",
       "    </tr>\n",
       "    <tr>\n",
       "      <th>balcony</th>\n",
       "      <td>0.225731</td>\n",
       "      <td>1.000000</td>\n",
       "      <td>0.165188</td>\n",
       "      <td>0.338050</td>\n",
       "      <td>0.228834</td>\n",
       "      <td>-0.008979</td>\n",
       "      <td>-0.090037</td>\n",
       "      <td>0.117818</td>\n",
       "      <td>0.117025</td>\n",
       "      <td>0.008403</td>\n",
       "      <td>...</td>\n",
       "      <td>-0.000266</td>\n",
       "      <td>0.019664</td>\n",
       "      <td>-0.007371</td>\n",
       "      <td>0.036738</td>\n",
       "      <td>-0.000573</td>\n",
       "      <td>0.010870</td>\n",
       "      <td>-0.000281</td>\n",
       "      <td>0.007323</td>\n",
       "      <td>-0.020860</td>\n",
       "      <td>-0.042358</td>\n",
       "    </tr>\n",
       "    <tr>\n",
       "      <th>price</th>\n",
       "      <td>0.583774</td>\n",
       "      <td>0.165188</td>\n",
       "      <td>1.000000</td>\n",
       "      <td>0.322039</td>\n",
       "      <td>0.723069</td>\n",
       "      <td>-0.008616</td>\n",
       "      <td>0.320365</td>\n",
       "      <td>-0.232043</td>\n",
       "      <td>0.082516</td>\n",
       "      <td>0.023610</td>\n",
       "      <td>...</td>\n",
       "      <td>-0.016616</td>\n",
       "      <td>-0.021070</td>\n",
       "      <td>-0.020486</td>\n",
       "      <td>-0.018798</td>\n",
       "      <td>-0.022772</td>\n",
       "      <td>0.001961</td>\n",
       "      <td>-0.002886</td>\n",
       "      <td>-0.009494</td>\n",
       "      <td>-0.018820</td>\n",
       "      <td>-0.044520</td>\n",
       "    </tr>\n",
       "    <tr>\n",
       "      <th>rooms</th>\n",
       "      <td>0.665354</td>\n",
       "      <td>0.338050</td>\n",
       "      <td>0.322039</td>\n",
       "      <td>1.000000</td>\n",
       "      <td>0.422278</td>\n",
       "      <td>0.009001</td>\n",
       "      <td>-0.156025</td>\n",
       "      <td>0.129853</td>\n",
       "      <td>0.037865</td>\n",
       "      <td>-0.022352</td>\n",
       "      <td>...</td>\n",
       "      <td>0.001501</td>\n",
       "      <td>-0.003648</td>\n",
       "      <td>-0.008889</td>\n",
       "      <td>0.010898</td>\n",
       "      <td>-0.007375</td>\n",
       "      <td>0.008000</td>\n",
       "      <td>-0.003099</td>\n",
       "      <td>-0.018227</td>\n",
       "      <td>-0.009712</td>\n",
       "      <td>0.022014</td>\n",
       "    </tr>\n",
       "    <tr>\n",
       "      <th>area</th>\n",
       "      <td>0.530981</td>\n",
       "      <td>0.228834</td>\n",
       "      <td>0.723069</td>\n",
       "      <td>0.422278</td>\n",
       "      <td>1.000000</td>\n",
       "      <td>-0.011230</td>\n",
       "      <td>0.033139</td>\n",
       "      <td>-0.073929</td>\n",
       "      <td>0.028499</td>\n",
       "      <td>0.058778</td>\n",
       "      <td>...</td>\n",
       "      <td>-0.017789</td>\n",
       "      <td>-0.010401</td>\n",
       "      <td>-0.003147</td>\n",
       "      <td>-0.017504</td>\n",
       "      <td>-0.009719</td>\n",
       "      <td>0.000888</td>\n",
       "      <td>-0.006375</td>\n",
       "      <td>-0.013830</td>\n",
       "      <td>-0.019048</td>\n",
       "      <td>-0.039191</td>\n",
       "    </tr>\n",
       "    <tr>\n",
       "      <th>...</th>\n",
       "      <td>...</td>\n",
       "      <td>...</td>\n",
       "      <td>...</td>\n",
       "      <td>...</td>\n",
       "      <td>...</td>\n",
       "      <td>...</td>\n",
       "      <td>...</td>\n",
       "      <td>...</td>\n",
       "      <td>...</td>\n",
       "      <td>...</td>\n",
       "      <td>...</td>\n",
       "      <td>...</td>\n",
       "      <td>...</td>\n",
       "      <td>...</td>\n",
       "      <td>...</td>\n",
       "      <td>...</td>\n",
       "      <td>...</td>\n",
       "      <td>...</td>\n",
       "      <td>...</td>\n",
       "      <td>...</td>\n",
       "      <td>...</td>\n",
       "    </tr>\n",
       "    <tr>\n",
       "      <th>location_HSR Layout</th>\n",
       "      <td>0.007035</td>\n",
       "      <td>0.010870</td>\n",
       "      <td>0.001961</td>\n",
       "      <td>0.008000</td>\n",
       "      <td>0.000888</td>\n",
       "      <td>-0.004955</td>\n",
       "      <td>-0.009174</td>\n",
       "      <td>0.004354</td>\n",
       "      <td>0.032547</td>\n",
       "      <td>-0.013103</td>\n",
       "      <td>...</td>\n",
       "      <td>-0.004260</td>\n",
       "      <td>-0.004222</td>\n",
       "      <td>-0.004184</td>\n",
       "      <td>-0.004146</td>\n",
       "      <td>-0.004146</td>\n",
       "      <td>1.000000</td>\n",
       "      <td>-0.004068</td>\n",
       "      <td>-0.004068</td>\n",
       "      <td>-0.004028</td>\n",
       "      <td>-0.004028</td>\n",
       "    </tr>\n",
       "    <tr>\n",
       "      <th>location_Jalahalli</th>\n",
       "      <td>-0.008252</td>\n",
       "      <td>-0.000281</td>\n",
       "      <td>-0.002886</td>\n",
       "      <td>-0.003099</td>\n",
       "      <td>-0.006375</td>\n",
       "      <td>-0.004908</td>\n",
       "      <td>-0.005289</td>\n",
       "      <td>0.008707</td>\n",
       "      <td>0.002003</td>\n",
       "      <td>-0.012979</td>\n",
       "      <td>...</td>\n",
       "      <td>-0.004219</td>\n",
       "      <td>-0.004182</td>\n",
       "      <td>-0.004144</td>\n",
       "      <td>-0.004106</td>\n",
       "      <td>-0.004106</td>\n",
       "      <td>-0.004068</td>\n",
       "      <td>1.000000</td>\n",
       "      <td>-0.004029</td>\n",
       "      <td>-0.003990</td>\n",
       "      <td>-0.003990</td>\n",
       "    </tr>\n",
       "    <tr>\n",
       "      <th>location_Hulimavu</th>\n",
       "      <td>-0.011250</td>\n",
       "      <td>0.007323</td>\n",
       "      <td>-0.009494</td>\n",
       "      <td>-0.018227</td>\n",
       "      <td>-0.013830</td>\n",
       "      <td>0.010975</td>\n",
       "      <td>-0.005289</td>\n",
       "      <td>0.000942</td>\n",
       "      <td>0.017120</td>\n",
       "      <td>-0.012979</td>\n",
       "      <td>...</td>\n",
       "      <td>-0.004219</td>\n",
       "      <td>-0.004182</td>\n",
       "      <td>-0.004144</td>\n",
       "      <td>-0.004106</td>\n",
       "      <td>-0.004106</td>\n",
       "      <td>-0.004068</td>\n",
       "      <td>-0.004029</td>\n",
       "      <td>1.000000</td>\n",
       "      <td>-0.003990</td>\n",
       "      <td>-0.003990</td>\n",
       "    </tr>\n",
       "    <tr>\n",
       "      <th>location_Panathur</th>\n",
       "      <td>-0.025853</td>\n",
       "      <td>-0.020860</td>\n",
       "      <td>-0.018820</td>\n",
       "      <td>-0.009712</td>\n",
       "      <td>-0.019048</td>\n",
       "      <td>-0.004860</td>\n",
       "      <td>-0.025855</td>\n",
       "      <td>0.034054</td>\n",
       "      <td>-0.029132</td>\n",
       "      <td>-0.012853</td>\n",
       "      <td>...</td>\n",
       "      <td>-0.004178</td>\n",
       "      <td>-0.004141</td>\n",
       "      <td>-0.004104</td>\n",
       "      <td>-0.004066</td>\n",
       "      <td>-0.004066</td>\n",
       "      <td>-0.004028</td>\n",
       "      <td>-0.003990</td>\n",
       "      <td>-0.003990</td>\n",
       "      <td>1.000000</td>\n",
       "      <td>-0.003951</td>\n",
       "    </tr>\n",
       "    <tr>\n",
       "      <th>location_Bisuvanahalli</th>\n",
       "      <td>-0.032918</td>\n",
       "      <td>-0.042358</td>\n",
       "      <td>-0.044520</td>\n",
       "      <td>0.022014</td>\n",
       "      <td>-0.039191</td>\n",
       "      <td>-0.004860</td>\n",
       "      <td>-0.025855</td>\n",
       "      <td>0.018373</td>\n",
       "      <td>0.031925</td>\n",
       "      <td>-0.012853</td>\n",
       "      <td>...</td>\n",
       "      <td>-0.004178</td>\n",
       "      <td>-0.004141</td>\n",
       "      <td>-0.004104</td>\n",
       "      <td>-0.004066</td>\n",
       "      <td>-0.004066</td>\n",
       "      <td>-0.004028</td>\n",
       "      <td>-0.003990</td>\n",
       "      <td>-0.003990</td>\n",
       "      <td>-0.003951</td>\n",
       "      <td>1.000000</td>\n",
       "    </tr>\n",
       "  </tbody>\n",
       "</table>\n",
       "<p>61 rows × 61 columns</p>\n",
       "</div>"
      ],
      "text/plain": [
       "                            bath   balcony     price     rooms      area  \\\n",
       "bath                    1.000000  0.225731  0.583774  0.665354  0.530981   \n",
       "balcony                 0.225731  1.000000  0.165188  0.338050  0.228834   \n",
       "price                   0.583774  0.165188  1.000000  0.322039  0.723069   \n",
       "rooms                   0.665354  0.338050  0.322039  1.000000  0.422278   \n",
       "area                    0.530981  0.228834  0.723069  0.422278  1.000000   \n",
       "...                          ...       ...       ...       ...       ...   \n",
       "location_HSR Layout     0.007035  0.010870  0.001961  0.008000  0.000888   \n",
       "location_Jalahalli     -0.008252 -0.000281 -0.002886 -0.003099 -0.006375   \n",
       "location_Hulimavu      -0.011250  0.007323 -0.009494 -0.018227 -0.013830   \n",
       "location_Panathur      -0.025853 -0.020860 -0.018820 -0.009712 -0.019048   \n",
       "location_Bisuvanahalli -0.032918 -0.042358 -0.044520  0.022014 -0.039191   \n",
       "\n",
       "                        area_type_Carpet  Area  area_type_Plot  Area  \\\n",
       "bath                                 -0.010889              0.389775   \n",
       "balcony                              -0.008979             -0.090037   \n",
       "price                                -0.008616              0.320365   \n",
       "rooms                                 0.009001             -0.156025   \n",
       "area                                 -0.011230              0.033139   \n",
       "...                                        ...                   ...   \n",
       "location_HSR Layout                  -0.004955             -0.009174   \n",
       "location_Jalahalli                   -0.004908             -0.005289   \n",
       "location_Hulimavu                     0.010975             -0.005289   \n",
       "location_Panathur                    -0.004860             -0.025855   \n",
       "location_Bisuvanahalli               -0.004860             -0.025855   \n",
       "\n",
       "                        area_type_Super built-up  Area  \\\n",
       "bath                                         -0.282694   \n",
       "balcony                                       0.117818   \n",
       "price                                        -0.232043   \n",
       "rooms                                         0.129853   \n",
       "area                                         -0.073929   \n",
       "...                                                ...   \n",
       "location_HSR Layout                           0.004354   \n",
       "location_Jalahalli                            0.008707   \n",
       "location_Hulimavu                             0.000942   \n",
       "location_Panathur                             0.034054   \n",
       "location_Bisuvanahalli                        0.018373   \n",
       "\n",
       "                        availability_ready_to_move  location_Whitefield  ...  \\\n",
       "bath                                      0.084243             0.000465  ...   \n",
       "balcony                                   0.117025             0.008403  ...   \n",
       "price                                     0.082516             0.023610  ...   \n",
       "rooms                                     0.037865            -0.022352  ...   \n",
       "area                                      0.028499             0.058778  ...   \n",
       "...                                            ...                  ...  ...   \n",
       "location_HSR Layout                       0.032547            -0.013103  ...   \n",
       "location_Jalahalli                        0.002003            -0.012979  ...   \n",
       "location_Hulimavu                         0.017120            -0.012979  ...   \n",
       "location_Panathur                        -0.029132            -0.012853  ...   \n",
       "location_Bisuvanahalli                    0.031925            -0.012853  ...   \n",
       "\n",
       "                        location_8th Phase JP Nagar  location_Rachenahalli  \\\n",
       "bath                                       0.002432              -0.021014   \n",
       "balcony                                   -0.000266               0.019664   \n",
       "price                                     -0.016616              -0.021070   \n",
       "rooms                                      0.001501              -0.003648   \n",
       "area                                      -0.017789              -0.010401   \n",
       "...                                             ...                    ...   \n",
       "location_HSR Layout                       -0.004260              -0.004222   \n",
       "location_Jalahalli                        -0.004219              -0.004182   \n",
       "location_Hulimavu                         -0.004219              -0.004182   \n",
       "location_Panathur                         -0.004178              -0.004141   \n",
       "location_Bisuvanahalli                    -0.004178              -0.004141   \n",
       "\n",
       "                        location_Hennur  location_Jigani  location_Budigere  \\\n",
       "bath                          -0.020582         0.017133          -0.015239   \n",
       "balcony                       -0.007371         0.036738          -0.000573   \n",
       "price                         -0.020486        -0.018798          -0.022772   \n",
       "rooms                         -0.008889         0.010898          -0.007375   \n",
       "area                          -0.003147        -0.017504          -0.009719   \n",
       "...                                 ...              ...                ...   \n",
       "location_HSR Layout           -0.004184        -0.004146          -0.004146   \n",
       "location_Jalahalli            -0.004144        -0.004106          -0.004106   \n",
       "location_Hulimavu             -0.004144        -0.004106          -0.004106   \n",
       "location_Panathur             -0.004104        -0.004066          -0.004066   \n",
       "location_Bisuvanahalli        -0.004104        -0.004066          -0.004066   \n",
       "\n",
       "                        location_HSR Layout  location_Jalahalli  \\\n",
       "bath                               0.007035           -0.008252   \n",
       "balcony                            0.010870           -0.000281   \n",
       "price                              0.001961           -0.002886   \n",
       "rooms                              0.008000           -0.003099   \n",
       "area                               0.000888           -0.006375   \n",
       "...                                     ...                 ...   \n",
       "location_HSR Layout                1.000000           -0.004068   \n",
       "location_Jalahalli                -0.004068            1.000000   \n",
       "location_Hulimavu                 -0.004068           -0.004029   \n",
       "location_Panathur                 -0.004028           -0.003990   \n",
       "location_Bisuvanahalli            -0.004028           -0.003990   \n",
       "\n",
       "                        location_Hulimavu  location_Panathur  \\\n",
       "bath                            -0.011250          -0.025853   \n",
       "balcony                          0.007323          -0.020860   \n",
       "price                           -0.009494          -0.018820   \n",
       "rooms                           -0.018227          -0.009712   \n",
       "area                            -0.013830          -0.019048   \n",
       "...                                   ...                ...   \n",
       "location_HSR Layout             -0.004068          -0.004028   \n",
       "location_Jalahalli              -0.004029          -0.003990   \n",
       "location_Hulimavu                1.000000          -0.003990   \n",
       "location_Panathur               -0.003990           1.000000   \n",
       "location_Bisuvanahalli          -0.003990          -0.003951   \n",
       "\n",
       "                        location_Bisuvanahalli  \n",
       "bath                                 -0.032918  \n",
       "balcony                              -0.042358  \n",
       "price                                -0.044520  \n",
       "rooms                                 0.022014  \n",
       "area                                 -0.039191  \n",
       "...                                        ...  \n",
       "location_HSR Layout                  -0.004028  \n",
       "location_Jalahalli                   -0.003990  \n",
       "location_Hulimavu                    -0.003990  \n",
       "location_Panathur                    -0.003951  \n",
       "location_Bisuvanahalli                1.000000  \n",
       "\n",
       "[61 rows x 61 columns]"
      ]
     },
     "execution_count": 98,
     "metadata": {},
     "output_type": "execute_result"
    }
   ],
   "source": [
    "df_final.corr()"
   ]
  },
  {
   "cell_type": "code",
   "execution_count": 99,
   "metadata": {},
   "outputs": [
    {
     "data": {
      "text/plain": [
       "(12958, 61)"
      ]
     },
     "execution_count": 99,
     "metadata": {},
     "output_type": "execute_result"
    }
   ],
   "source": [
    "df_final.shape"
   ]
  },
  {
   "cell_type": "code",
   "execution_count": 100,
   "metadata": {},
   "outputs": [],
   "source": [
    "X=df_final.drop(['price'],axis=1)\n",
    "y=df_final['price']"
   ]
  },
  {
   "cell_type": "markdown",
   "metadata": {},
   "source": [
    "# Train-Test Split"
   ]
  },
  {
   "cell_type": "code",
   "execution_count": 101,
   "metadata": {},
   "outputs": [
    {
     "name": "stdout",
     "output_type": "stream",
     "text": [
      "(10366, 60)\n",
      "(2592, 60)\n",
      "(10366,)\n",
      "(2592,)\n"
     ]
    }
   ],
   "source": [
    "from sklearn.model_selection import train_test_split\n",
    "X_train,X_test,y_train,y_test=train_test_split(X,y,test_size=0.20,random_state=20)\n",
    "print(X_train.shape)\n",
    "print(X_test.shape)\n",
    "print(y_train.shape)\n",
    "print(y_test.shape)"
   ]
  },
  {
   "cell_type": "markdown",
   "metadata": {},
   "source": [
    "# Standard Scaler"
   ]
  },
  {
   "cell_type": "code",
   "execution_count": 102,
   "metadata": {},
   "outputs": [],
   "source": [
    "from sklearn.preprocessing import StandardScaler \n",
    "from sklearn.preprocessing import MinMaxScaler \n",
    "sc=StandardScaler() \n",
    "sc.fit(X_train) \n",
    "X_train_sc=sc.transform(X_train) \n",
    "X_test_sc=sc.transform(X_test)"
   ]
  },
  {
   "cell_type": "code",
   "execution_count": 103,
   "metadata": {},
   "outputs": [],
   "source": [
    "X_train_sc=pd.DataFrame(X_train_sc)\n",
    "X_test_sc=pd.DataFrame(X_test_sc)"
   ]
  },
  {
   "cell_type": "markdown",
   "metadata": {},
   "source": [
    "# Linear Regression Model"
   ]
  },
  {
   "cell_type": "code",
   "execution_count": 104,
   "metadata": {},
   "outputs": [
    {
     "data": {
      "text/plain": [
       "(0.6470072083763663, 48.11146716064956)"
      ]
     },
     "execution_count": 104,
     "metadata": {},
     "output_type": "execute_result"
    }
   ],
   "source": [
    "from sklearn.linear_model import LinearRegression\n",
    "from sklearn.ensemble import RandomForestRegressor\n",
    "from sklearn.tree import DecisionTreeRegressor\n",
    "import xgboost\n",
    "from sklearn.metrics import mean_squared_error\n",
    "lr=LinearRegression()\n",
    "lr.fit(X_train_sc,y_train)\n",
    "lr_score=lr.score(X_test_sc,y_test)\n",
    "rmse=np.sqrt(mean_squared_error(y_test,lr.predict(X_test_sc)))\n",
    "lr_score,rmse"
   ]
  },
  {
   "cell_type": "markdown",
   "metadata": {},
   "source": [
    "# DecisionTreeRegressor Model"
   ]
  },
  {
   "cell_type": "code",
   "execution_count": 105,
   "metadata": {},
   "outputs": [
    {
     "data": {
      "text/plain": [
       "0.5268177933152528"
      ]
     },
     "execution_count": 105,
     "metadata": {},
     "output_type": "execute_result"
    }
   ],
   "source": [
    "dt=DecisionTreeRegressor()\n",
    "dt.fit(X_train_sc,y_train)\n",
    "dt_score=dt.score(X_test_sc,y_test)\n",
    "dt_score"
   ]
  },
  {
   "cell_type": "markdown",
   "metadata": {},
   "source": [
    "# XGBRegressor Model"
   ]
  },
  {
   "cell_type": "code",
   "execution_count": 106,
   "metadata": {},
   "outputs": [
    {
     "data": {
      "text/plain": [
       "(0.713766267411519, 43.32375482886866)"
      ]
     },
     "execution_count": 106,
     "metadata": {},
     "output_type": "execute_result"
    }
   ],
   "source": [
    "xgb=xgboost.XGBRegressor()\n",
    "xgb.fit(X_train_sc,y_train)\n",
    "xgb_score=xgb.score(X_test_sc,y_test)\n",
    "rmse=np.sqrt(mean_squared_error(y_test,xgb.predict(X_test_sc)))\n",
    "xgb_score,rmse"
   ]
  },
  {
   "cell_type": "markdown",
   "metadata": {},
   "source": [
    "# Random Forest Regressor Model"
   ]
  },
  {
   "cell_type": "code",
   "execution_count": 107,
   "metadata": {},
   "outputs": [
    {
     "data": {
      "text/plain": [
       "(0.6866777983625885, 45.32744788832353)"
      ]
     },
     "execution_count": 107,
     "metadata": {},
     "output_type": "execute_result"
    }
   ],
   "source": [
    "rfr=RandomForestRegressor()\n",
    "rfr.fit(X_train_sc,y_train)\n",
    "rfr_score=rfr.score(X_test_sc,y_test)\n",
    "rmse=np.sqrt(mean_squared_error(y_test,rfr.predict(X_test_sc)))\n",
    "rfr_score,rmse"
   ]
  },
  {
   "cell_type": "markdown",
   "metadata": {},
   "source": [
    "# Save and Load XGBRegressor model"
   ]
  },
  {
   "cell_type": "code",
   "execution_count": 108,
   "metadata": {},
   "outputs": [],
   "source": [
    "import joblib"
   ]
  },
  {
   "cell_type": "code",
   "execution_count": 109,
   "metadata": {},
   "outputs": [
    {
     "data": {
      "text/plain": [
       "['predict the price']"
      ]
     },
     "execution_count": 109,
     "metadata": {},
     "output_type": "execute_result"
    }
   ],
   "source": [
    "joblib.dump(xgb,'predict the price')"
   ]
  },
  {
   "cell_type": "code",
   "execution_count": 110,
   "metadata": {},
   "outputs": [],
   "source": [
    "final_model=joblib.load('predict the price')"
   ]
  },
  {
   "cell_type": "markdown",
   "metadata": {},
   "source": [
    "# Predict the price of new house"
   ]
  },
  {
   "cell_type": "code",
   "execution_count": 111,
   "metadata": {},
   "outputs": [
    {
     "data": {
      "text/plain": [
       "array([49.26386 , 52.437534, 71.71712 , ..., 47.97285 , 77.04853 ,\n",
       "       51.381523], dtype=float32)"
      ]
     },
     "execution_count": 111,
     "metadata": {},
     "output_type": "execute_result"
    }
   ],
   "source": [
    "final_model.predict(X_test_sc)"
   ]
  }
 ],
 "metadata": {
  "kernelspec": {
   "display_name": "Python 3",
   "language": "python",
   "name": "python3"
  },
  "language_info": {
   "codemirror_mode": {
    "name": "ipython",
    "version": 3
   },
   "file_extension": ".py",
   "mimetype": "text/x-python",
   "name": "python",
   "nbconvert_exporter": "python",
   "pygments_lexer": "ipython3",
   "version": "3.7.0"
  }
 },
 "nbformat": 4,
 "nbformat_minor": 2
}
